{
 "cells": [
  {
   "cell_type": "markdown",
   "metadata": {},
   "source": [
    "# Import Required Libraries\n",
    "Import the necessary libraries, such as requests, for making API calls."
   ]
  },
  {
   "cell_type": "code",
   "execution_count": null,
   "metadata": {},
   "outputs": [],
   "source": [
    "# Import the necessary library for making API calls\n",
    "import requests"
   ]
  },
  {
   "cell_type": "markdown",
   "metadata": {},
   "source": [
    "# Define API Key and URL\n",
    "Define the API key and construct the URL for the API request."
   ]
  },
  {
   "cell_type": "code",
   "execution_count": null,
   "metadata": {},
   "outputs": [],
   "source": [
    "# Define the API key and construct the URL for the API request\n",
    "API_KEY = '66c0aeb1357b15.87356825'\n",
    "url = f'https://eodhd.com/api/real-time/CVX.US?api_token={API_KEY}&fmt=json'"
   ]
  },
  {
   "cell_type": "markdown",
   "metadata": {},
   "source": [
    "# Fetch Data from API\n",
    "Use the requests library to fetch data from the API and parse the JSON response."
   ]
  },
  {
   "cell_type": "code",
   "execution_count": null,
   "metadata": {},
   "outputs": [],
   "source": [
    "# Fetch data from the API and parse the JSON response\n",
    "response = requests.get(url)  # Make the API request\n",
    "data = response.json()  # Parse the JSON response\n",
    "\n",
    "# Display the fetched data\n",
    "data"
   ]
  },
  {
   "cell_type": "markdown",
   "metadata": {},
   "source": [
    "# Display Data in Notebook\n",
    "Use print statements or Jupyter Notebook's rich display capabilities to show the fetched data."
   ]
  },
  {
   "cell_type": "code",
   "execution_count": null,
   "metadata": {},
   "outputs": [],
   "source": [
    "from IPython.display import JSON\n",
    "\n",
    "# Use Jupyter Notebook's rich display capabilities to show the fetched data\n",
    "JSON(data)"
   ]
  }
 ],
 "metadata": {
  "language_info": {
   "name": "python"
  }
 },
 "nbformat": 4,
 "nbformat_minor": 2
}
