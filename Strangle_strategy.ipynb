{
 "cells": [
  {
   "cell_type": "markdown",
   "metadata": {},
   "source": [
    "# Import Required Libraries\n",
    "Import the necessary libraries, such as requests, for making API calls."
   ]
  },
  {
   "cell_type": "code",
   "execution_count": 3,
   "metadata": {},
   "outputs": [
    {
     "name": "stdout",
     "output_type": "stream",
     "text": [
      "Requirement already satisfied: transformers in c:\\users\\ravit\\appdata\\local\\programs\\python\\python313\\lib\\site-packages (4.50.3)\n",
      "Requirement already satisfied: filelock in c:\\users\\ravit\\appdata\\local\\programs\\python\\python313\\lib\\site-packages (from transformers) (3.18.0)\n",
      "Requirement already satisfied: huggingface-hub<1.0,>=0.26.0 in c:\\users\\ravit\\appdata\\local\\programs\\python\\python313\\lib\\site-packages (from transformers) (0.30.1)\n",
      "Requirement already satisfied: numpy>=1.17 in c:\\users\\ravit\\appdata\\local\\programs\\python\\python313\\lib\\site-packages (from transformers) (2.1.3)\n",
      "Requirement already satisfied: packaging>=20.0 in c:\\users\\ravit\\appdata\\local\\programs\\python\\python313\\lib\\site-packages (from transformers) (24.2)\n",
      "Requirement already satisfied: pyyaml>=5.1 in c:\\users\\ravit\\appdata\\local\\programs\\python\\python313\\lib\\site-packages (from transformers) (6.0.2)\n",
      "Requirement already satisfied: regex!=2019.12.17 in c:\\users\\ravit\\appdata\\local\\programs\\python\\python313\\lib\\site-packages (from transformers) (2024.11.6)\n",
      "Requirement already satisfied: requests in c:\\users\\ravit\\appdata\\local\\programs\\python\\python313\\lib\\site-packages (from transformers) (2.32.3)\n",
      "Requirement already satisfied: tokenizers<0.22,>=0.21 in c:\\users\\ravit\\appdata\\local\\programs\\python\\python313\\lib\\site-packages (from transformers) (0.21.1)\n",
      "Requirement already satisfied: safetensors>=0.4.3 in c:\\users\\ravit\\appdata\\local\\programs\\python\\python313\\lib\\site-packages (from transformers) (0.5.3)\n",
      "Requirement already satisfied: tqdm>=4.27 in c:\\users\\ravit\\appdata\\local\\programs\\python\\python313\\lib\\site-packages (from transformers) (4.67.1)\n",
      "Requirement already satisfied: fsspec>=2023.5.0 in c:\\users\\ravit\\appdata\\local\\programs\\python\\python313\\lib\\site-packages (from huggingface-hub<1.0,>=0.26.0->transformers) (2025.3.2)\n",
      "Requirement already satisfied: typing-extensions>=3.7.4.3 in c:\\users\\ravit\\appdata\\local\\programs\\python\\python313\\lib\\site-packages (from huggingface-hub<1.0,>=0.26.0->transformers) (4.13.0)\n",
      "Requirement already satisfied: colorama in c:\\users\\ravit\\appdata\\local\\programs\\python\\python313\\lib\\site-packages (from tqdm>=4.27->transformers) (0.4.6)\n",
      "Requirement already satisfied: charset-normalizer<4,>=2 in c:\\users\\ravit\\appdata\\local\\programs\\python\\python313\\lib\\site-packages (from requests->transformers) (3.4.1)\n",
      "Requirement already satisfied: idna<4,>=2.5 in c:\\users\\ravit\\appdata\\local\\programs\\python\\python313\\lib\\site-packages (from requests->transformers) (3.10)\n",
      "Requirement already satisfied: urllib3<3,>=1.21.1 in c:\\users\\ravit\\appdata\\local\\programs\\python\\python313\\lib\\site-packages (from requests->transformers) (2.3.0)\n",
      "Requirement already satisfied: certifi>=2017.4.17 in c:\\users\\ravit\\appdata\\local\\programs\\python\\python313\\lib\\site-packages (from requests->transformers) (2025.1.31)\n",
      "Note: you may need to restart the kernel to use updated packages.\n"
     ]
    },
    {
     "name": "stderr",
     "output_type": "stream",
     "text": [
      "\n",
      "[notice] A new release of pip is available: 24.3.1 -> 25.1\n",
      "[notice] To update, run: python.exe -m pip install --upgrade pip\n"
     ]
    },
    {
     "name": "stdout",
     "output_type": "stream",
     "text": [
      "Requirement already satisfied: torch in c:\\users\\ravit\\appdata\\local\\programs\\python\\python313\\lib\\site-packages (2.6.0)\n",
      "Requirement already satisfied: filelock in c:\\users\\ravit\\appdata\\local\\programs\\python\\python313\\lib\\site-packages (from torch) (3.18.0)\n",
      "Requirement already satisfied: typing-extensions>=4.10.0 in c:\\users\\ravit\\appdata\\local\\programs\\python\\python313\\lib\\site-packages (from torch) (4.13.0)\n",
      "Requirement already satisfied: networkx in c:\\users\\ravit\\appdata\\local\\programs\\python\\python313\\lib\\site-packages (from torch) (3.4.2)\n",
      "Requirement already satisfied: jinja2 in c:\\users\\ravit\\appdata\\local\\programs\\python\\python313\\lib\\site-packages (from torch) (3.1.6)\n",
      "Requirement already satisfied: fsspec in c:\\users\\ravit\\appdata\\local\\programs\\python\\python313\\lib\\site-packages (from torch) (2025.3.2)\n",
      "Requirement already satisfied: setuptools in c:\\users\\ravit\\appdata\\local\\programs\\python\\python313\\lib\\site-packages (from torch) (78.1.0)\n",
      "Requirement already satisfied: sympy==1.13.1 in c:\\users\\ravit\\appdata\\local\\programs\\python\\python313\\lib\\site-packages (from torch) (1.13.1)\n",
      "Requirement already satisfied: mpmath<1.4,>=1.1.0 in c:\\users\\ravit\\appdata\\local\\programs\\python\\python313\\lib\\site-packages (from sympy==1.13.1->torch) (1.3.0)\n",
      "Requirement already satisfied: MarkupSafe>=2.0 in c:\\users\\ravit\\appdata\\local\\programs\\python\\python313\\lib\\site-packages (from jinja2->torch) (3.0.2)\n",
      "Note: you may need to restart the kernel to use updated packages.\n"
     ]
    },
    {
     "name": "stderr",
     "output_type": "stream",
     "text": [
      "\n",
      "[notice] A new release of pip is available: 24.3.1 -> 25.1\n",
      "[notice] To update, run: python.exe -m pip install --upgrade pip\n"
     ]
    }
   ],
   "source": [
    "# Import the necessary library for making API calls\n",
    "# Install necessary libraries\n",
    "'''%pip install requests\n",
    "%pip install pandas\n",
    "%pip install datetime\n",
    "%pip install cudf\n",
    "%pip install cupy\n",
    "%pip install openpyxl\n",
    "%pip install textblob\n",
    "%pip install transformers\n",
    "%pip install torch\n",
    "%pip install import-ipynb'''\n",
    "\n",
    "# Import libraries\n",
    "import import_ipynb\n",
    "from Input_Tools import *\n",
    "import requests\n",
    "import pandas as pd\n",
    "import datetime as dt\n",
    "import numpy as np\n",
    "import os as os\n",
    "from textblob import TextBlob\n",
    "from concurrent.futures import ThreadPoolExecutor\n",
    "import matplotlib.pyplot as plt\n",
    "import matplotlib.pyplot as mdates"
   ]
  },
  {
   "cell_type": "markdown",
   "metadata": {},
   "source": [
    "# Define API Key\n",
    "Define the API key"
   ]
  },
  {
   "cell_type": "code",
   "execution_count": 4,
   "metadata": {},
   "outputs": [],
   "source": [
    "API_Eodhd = \"66c0aeb1357b15.87356825\"\n",
    "\n",
    "#Important link: https://eodhd.com/financial-academy/financial-faq/fundamentals-glossary-common-stock\n"
   ]
  },
  {
   "cell_type": "markdown",
   "metadata": {},
   "source": [
    "# Filtering using a stock screener\n",
    "Filters stock based on market capitalization"
   ]
  },
  {
   "cell_type": "code",
   "execution_count": 36,
   "metadata": {},
   "outputs": [],
   "source": [
    "def fetch_stocks_by_market_cap_and_exchange(market_cap, exchange):\n",
    "    \"\"\"\n",
    "    Fetch stocks filtered by market capitalization and exchange.\n",
    "\n",
    "    Parameters:\n",
    "        market_cap (int): Minimum market capitalization.\n",
    "        exchange (str): Exchange code.\n",
    "\n",
    "    Returns:\n",
    "        pd.DataFrame: DataFrame containing the filtered stocks with name and stock code.\n",
    "    \"\"\"\n",
    "    # Construct the URL with the provided arguments\n",
    "    url = f'https://eodhd.com/api/screener?api_token={API_Eodhd}&sort=market_capitalization.desc&filters=[[\"market_capitalization\",\">\",{market_cap}],[\"exchange\",\"=\",\"{exchange}\"]]&limit=500&offset=0'\n",
    "\n",
    "    # Fetch the response\n",
    "    response = requests.get(url)\n",
    "\n",
    "    # Check if the response is valid JSON\n",
    "    if response.status_code == 200:\n",
    "        try:\n",
    "            data = response.json()\n",
    "            \n",
    "            # Convert the response to a pandas DataFrame\n",
    "            df = pd.DataFrame(data.get('data', []))\n",
    "            \n",
    "            # Filter to only include name and stock code\n",
    "            df['Stock_name'] = df['code'] + '.' + df['exchange']\n",
    "            filtered_df = df[['name', 'Stock_name']]\n",
    "            return filtered_df\n",
    "        except ValueError:\n",
    "            return pd.DataFrame()\n",
    "    else:\n",
    "        return pd.DataFrame()"
   ]
  },
  {
   "cell_type": "code",
   "execution_count": 37,
   "metadata": {},
   "outputs": [
    {
     "name": "stdout",
     "output_type": "stream",
     "text": [
      "                             Name   Code         Country Currency\n",
      "0                      USA Stocks     US             USA      USD\n",
      "1                 London Exchange    LSE              UK      GBP\n",
      "2                    NEO Exchange    NEO          Canada      CAD\n",
      "3            TSX Venture Exchange      V          Canada      CAD\n",
      "4                Toronto Exchange     TO          Canada      CAD\n",
      "5                 Berlin Exchange     BE         Germany      EUR\n",
      "6                Hamburg Exchange     HM         Germany      EUR\n",
      "7            XETRA Stock Exchange  XETRA         Germany      EUR\n",
      "8             Dusseldorf Exchange     DU         Germany      EUR\n",
      "9              Frankfurt Exchange      F         Germany      EUR\n",
      "10                Munich Exchange     MU         Germany      EUR\n",
      "11               Hanover Exchange     HA         Germany      EUR\n",
      "12             Stuttgart Exchange    STU         Germany      EUR\n",
      "13      Luxembourg Stock Exchange     LU      Luxembourg      EUR\n",
      "14                Vienna Exchange     VI         Austria      EUR\n",
      "15                 Euronext Paris     PA          France      EUR\n",
      "16              Euronext Brussels     BR         Belgium      EUR\n",
      "17             SIX Swiss Exchange     SW     Switzerland      CHF\n",
      "18                Madrid Exchange     MC           Spain      EUR\n",
      "19                Euronext Lisbon     LS        Portugal      EUR\n",
      "20             Euronext Amsterdam     AS     Netherlands      EUR\n",
      "21              Helsinki Exchange     HE         Finland      EUR\n",
      "22               Iceland Exchange     IC         Iceland      ISK\n",
      "23                 Irish Exchange     IR         Ireland      EUR\n",
      "24            Oslo Stock Exchange     OL          Norway      NOK\n",
      "25            Copenhagen Exchange     CO         Denmark      DKK\n",
      "26             Stockholm Exchange     ST          Sweden      SEK\n",
      "27  Victoria Falls Stock Exchange   VFEX        Zimbabwe      ZWL\n",
      "28        Zimbabwe Stock Exchange   XZIM        Zimbabwe      ZWL\n",
      "29          Lusaka Stock Exchange   LUSE          Zambia      ZMW\n",
      "30     Uganda Securities Exchange    USE          Uganda      UGX\n",
      "31   Dar es Salaam Stock Exchange    DSE        Tanzania      TZS\n",
      "32          Rwanda Stock Exchange    RSE          Rwanda     RWF \n",
      "33          Prague Stock Exchange     PR  Czech Republic      CZK\n",
      "34        Botswana Stock Exchange   XBOT        Botswana      BWP\n",
      "35        Nigerian Stock Exchange   XNSA         Nigeria      NGN\n",
      "36              Egyptian Exchange    EGX           Egypt      EGP\n",
      "37          Malawi Stock Exchange    MSE          Malawi      MWK\n",
      "38           Ghana Stock Exchange    GSE           Ghana      GHS\n",
      "39    Nairobi Securities Exchange   XNAI           Kenya      KES\n",
      "40      Casablanca Stock Exchange     BC         Morocco      MAD\n",
      "41    Stock Exchange of Mauritius    SEM       Mauritius      MUR\n",
      "42        Tel Aviv Stock Exchange     TA          Israel      ILS\n",
      "43           Korea Stock Exchange     KO           Korea      KRW\n",
      "44                         KOSDAQ     KQ           Korea      KRW\n",
      "45        Budapest Stock Exchange    BUD         Hungary      HUF\n",
      "46          Warsaw Stock Exchange    WAR          Poland      PLN\n",
      "47      Philippine Stock Exchange    PSE     Philippines      PHP\n",
      "48         Chilean Stock Exchange     SN           Chile      CLP\n",
      "49               Jakarta Exchange     JK       Indonesia      IDR\n"
     ]
    }
   ],
   "source": [
    "print(fetch_exchanges_list().head(50))"
   ]
  },
  {
   "cell_type": "code",
   "execution_count": 38,
   "metadata": {},
   "outputs": [
    {
     "name": "stdout",
     "output_type": "stream",
     "text": [
      "                                                   name Stock_name\n",
      "0                              Hermes International SCA     RMS.PA\n",
      "1     LVMH Moët Hennessy - Louis Vuitton Société Eur...      MC.PA\n",
      "2                                            L’Oreal SA      OR.PA\n",
      "3                               Schneider Electric S.E.      SU.PA\n",
      "4                                      TotalEnergies SE     TTE.PA\n",
      "...                                                 ...        ...\n",
      "1113                                      Volkswagen AG   VLKAF.US\n",
      "1114                             Volkswagen AG 1/10 ADR   VWAGY.US\n",
      "1115                        Volkswagen AG Pref 1/10 ADR   VWAPY.US\n",
      "1116                             Volkswagen AG VZO O.N.   VLKPF.US\n",
      "1117                                 Wesfarmers Limited   WFAFF.US\n",
      "\n",
      "[1118 rows x 2 columns]\n"
     ]
    }
   ],
   "source": [
    "# Define the list of exchanges\n",
    "exchange_list = [\"PA\", \"AS\",\"LSE\",\"VI\",\"MC\",\"US\"]\n",
    "\n",
    "# Initialize an empty list to store DataFrames\n",
    "combined_data = []\n",
    "\n",
    "# Loop through each exchange and fetch the data\n",
    "for exchange in exchange_list:\n",
    "    df = fetch_stocks_by_market_cap_and_exchange(10000000000, exchange)\n",
    "    combined_data.append(df)\n",
    "\n",
    "# Combine all DataFrames into a single DataFrame\n",
    "stock_list = pd.concat(combined_data, ignore_index=True)\n",
    "\n",
    "# Display the combined DataFrame\n",
    "print(stock_list)"
   ]
  },
  {
   "cell_type": "markdown",
   "metadata": {},
   "source": [
    "# Obtaining stock list\n",
    "Retrives stock list from an excel file"
   ]
  },
  {
   "cell_type": "code",
   "execution_count": 39,
   "metadata": {},
   "outputs": [
    {
     "name": "stdout",
     "output_type": "stream",
     "text": [
      "  Stock_name\n",
      "0    IUSA.AS\n",
      "1     CVX.US\n",
      "2    MDLZ.US\n"
     ]
    }
   ],
   "source": [
    "# Retrives to get the list of all available tickers\n",
    "\n",
    "# Define the path to the Excel file\n",
    "excel_file_path_stocklist = r\"E:\\Business_NL\\Python\\stock_list.xlsx\"\n",
    "excel_file_path_portfolio = r\"E:\\Business_NL\\Python\\Portfolio_list.xlsx\"\n",
    "\n",
    "# Read column C from the Excel file into a pandas DataFrame\n",
    "# Assuming column C contains the data you need and has a header\n",
    "portfolio_list_stock = pd.read_excel(excel_file_path_portfolio, usecols=\"C\")\n",
    "portfolio_list_quantity = pd.read_excel(excel_file_path_portfolio, usecols=\"D\")\n",
    "\n",
    "print(portfolio_list_stock.head())\n"
   ]
  },
  {
   "cell_type": "markdown",
   "metadata": {},
   "source": [
    "# Filtering the stocks with required conditions\n",
    "Filtering stocks that has more than 10 million average trading volume"
   ]
  },
  {
   "cell_type": "code",
   "execution_count": 40,
   "metadata": {},
   "outputs": [
    {
     "data": {
      "text/plain": [
       "'# Define the start and end dates\\nend_date = dt.datetime.now()\\nstart_date = end_date - dt.timedelta(days=30)\\n\\n# Define the filter amount\\nfilter_amount = 10 * 10**6\\n\\n# Initialize an empty list to store the results\\naverage_dtv_list = []\\n\\n# Loop through each ticker in the stock list\\nfor ticker in stock_list[\"Stock_name\"]:  # Assuming the column name is \"Stock_name\"\\n    try:\\n        # Fetch historical price data\\n        stock_data = Fetch_historical_price(f\"{ticker}\", start_date, end_date, period=\"d\", columns=[\"adjusted_close\", \"volume\"])\\n\\n        # Calculate the Daily Trading Volume (DTV)\\n        stock_data[\"DTV\"] = stock_data[\"adjusted_close\"] * stock_data[\"volume\"]\\n\\n        # Calculate the average DTV\\n        avg_dtv = stock_data[\"DTV\"].mean()\\n\\n        # Append the stock name and average DTV to the list if it meets the filter condition\\n        if avg_dtv > filter_amount:\\n            average_dtv_list.append({\"Stock\": ticker, \"Average_DTV\": avg_dtv})\\n    except Exception as e:\\n        print(f\"Error processing {ticker}: {e}\")\\n\\n# Convert the list to a DataFrame\\nfiltered_stock_list = pd.DataFrame(average_dtv_list)\\n\\n# Display the resulting DataFrame\\nprint(filtered_stock_list)'"
      ]
     },
     "execution_count": 40,
     "metadata": {},
     "output_type": "execute_result"
    }
   ],
   "source": [
    "'''# Define the start and end dates\n",
    "end_date = dt.datetime.now()\n",
    "start_date = end_date - dt.timedelta(days=30)\n",
    "\n",
    "# Define the filter amount\n",
    "filter_amount = 10 * 10**6\n",
    "\n",
    "# Initialize an empty list to store the results\n",
    "average_dtv_list = []\n",
    "\n",
    "# Loop through each ticker in the stock list\n",
    "for ticker in stock_list[\"Stock_name\"]:  # Assuming the column name is \"Stock_name\"\n",
    "    try:\n",
    "        # Fetch historical price data\n",
    "        stock_data = Fetch_historical_price(f\"{ticker}\", start_date, end_date, period=\"d\", columns=[\"adjusted_close\", \"volume\"])\n",
    "        \n",
    "        # Calculate the Daily Trading Volume (DTV)\n",
    "        stock_data[\"DTV\"] = stock_data[\"adjusted_close\"] * stock_data[\"volume\"]\n",
    "        \n",
    "        # Calculate the average DTV\n",
    "        avg_dtv = stock_data[\"DTV\"].mean()\n",
    "        \n",
    "        # Append the stock name and average DTV to the list if it meets the filter condition\n",
    "        if avg_dtv > filter_amount:\n",
    "            average_dtv_list.append({\"Stock\": ticker, \"Average_DTV\": avg_dtv})\n",
    "    except Exception as e:\n",
    "        print(f\"Error processing {ticker}: {e}\")\n",
    "\n",
    "# Convert the list to a DataFrame\n",
    "filtered_stock_list = pd.DataFrame(average_dtv_list)\n",
    "\n",
    "# Display the resulting DataFrame\n",
    "print(filtered_stock_list)'''"
   ]
  },
  {
   "cell_type": "code",
   "execution_count": 41,
   "metadata": {},
   "outputs": [
    {
     "name": "stdout",
     "output_type": "stream",
     "text": [
      "        Stock   Average_DTV\n",
      "0      RMS.PA  2.044823e+08\n",
      "1       MC.PA  4.361090e+08\n",
      "2       OR.PA  2.155232e+08\n",
      "3       SU.PA  3.055453e+08\n",
      "4      TTE.PA  3.034792e+08\n",
      "..        ...           ...\n",
      "496    BCS.US  2.506303e+08\n",
      "497     BK.US  3.518432e+08\n",
      "498    COR.US  5.883638e+08\n",
      "499  HKXCY.US  1.028964e+07\n",
      "500    HWM.US  3.733660e+08\n",
      "\n",
      "[501 rows x 2 columns]\n"
     ]
    }
   ],
   "source": [
    "# Optimized version using ThreadPoolExecutor for parallel processing\n",
    "\n",
    "from concurrent.futures import ThreadPoolExecutor\n",
    "import pandas as pd\n",
    "\n",
    "# Define the start and end dates\n",
    "end_date = dt.datetime.now()\n",
    "start_date = end_date - dt.timedelta(days=30)\n",
    "\n",
    "# Define the filter amount\n",
    "filter_amount = 10 * 10**6\n",
    "\n",
    "# Function to process a single ticker\n",
    "def process_ticker(ticker):\n",
    "    try:\n",
    "        # Fetch historical price data\n",
    "        stock_data = Fetch_historical_price(\n",
    "            ticker, start_date, end_date, period=\"d\", columns=[\"adjusted_close\", \"volume\"]\n",
    "        )\n",
    "        \n",
    "        # Calculate the Daily Trading Volume (DTV) and its average\n",
    "        avg_dtv = (stock_data[\"adjusted_close\"] * stock_data[\"volume\"]).mean()\n",
    "        \n",
    "        # Return the result if it meets the filter condition\n",
    "        if avg_dtv > filter_amount:\n",
    "            return {\"Stock\": ticker, \"Average_DTV\": avg_dtv}\n",
    "    except Exception as e:\n",
    "        print(f\"Error processing {ticker}: {e}\")\n",
    "    return None\n",
    "\n",
    "# Use ThreadPoolExecutor for parallel processing\n",
    "with ThreadPoolExecutor() as executor:\n",
    "    results = list(executor.map(process_ticker, stock_list[\"Stock_name\"]))\n",
    "\n",
    "# Filter out None results and convert to a DataFrame\n",
    "average_dtv_list = [result for result in results if result is not None]\n",
    "filtered_stock_list = pd.DataFrame(average_dtv_list)\n",
    "\n",
    "# Display the resulting DataFrame\n",
    "print(filtered_stock_list)"
   ]
  },
  {
   "cell_type": "markdown",
   "metadata": {},
   "source": [
    "# Creating my portfolio\n",
    "Retriving my portfolio information"
   ]
  },
  {
   "cell_type": "code",
   "execution_count": 42,
   "metadata": {},
   "outputs": [
    {
     "name": "stdout",
     "output_type": "stream",
     "text": [
      "          date    IUSA.AS    CVX.US   MDLZ.US  Total_Portfolio_Value  \\\n",
      "0   2025-03-28  43582.112  571.3496  675.8625             30829.3241   \n",
      "1   2025-03-31  43354.000  575.4776  681.8925             30611.3701   \n",
      "2   2025-04-01  44014.592  579.6744  679.8825             31274.1489   \n",
      "3   2025-04-02  43974.736  572.6568  664.6065             31211.9993   \n",
      "4   2025-04-03  41645.280  537.0528  682.3950             28864.7278   \n",
      "5   2025-04-04  39870.416  492.8832  666.4155             27029.7147   \n",
      "6   2025-04-07  38683.216  482.1160  655.5615             25820.8935   \n",
      "7   2025-04-08  40091.744  471.0392  643.8030             27206.5862   \n",
      "8   2025-04-09  38132.864  502.3432  665.2095             25300.4167   \n",
      "9   2025-04-10  39626.192  464.3312  663.0990             26753.6222   \n",
      "10  2025-04-11  39112.304  466.5672  673.8525             26252.7237   \n",
      "11  2025-04-14  40235.056  465.5008  686.4150             27386.9718   \n",
      "12  2025-04-15  40523.376  462.8176  673.6515             27659.8451   \n",
      "13  2025-04-16  39866.176  465.6384  668.1240             26999.9384   \n",
      "14  2025-04-17  39328.544  474.2728  676.5660             26479.3828   \n",
      "16  2025-04-22  38779.040  472.3120  686.3145             25937.6665   \n",
      "17  2025-04-23  40132.448  470.1792  677.1690             27279.7962   \n",
      "18  2025-04-24  40505.568  478.4008  658.4760             27642.4448   \n",
      "19  2025-04-25  40729.440  477.2312  659.1795             27865.8507   \n",
      "\n",
      "    Margin_Amount  \n",
      "0           14000  \n",
      "1           14000  \n",
      "2           14000  \n",
      "3           14000  \n",
      "4           14000  \n",
      "5           14000  \n",
      "6           14000  \n",
      "7           14000  \n",
      "8           14000  \n",
      "9           14000  \n",
      "10          14000  \n",
      "11          14000  \n",
      "12          14000  \n",
      "13          14000  \n",
      "14          14000  \n",
      "16          14000  \n",
      "17          14000  \n",
      "18          14000  \n",
      "19          14000  \n"
     ]
    }
   ],
   "source": [
    "# Define the start and end dates\n",
    "end_date = dt.datetime.now()\n",
    "start_date = end_date - dt.timedelta(days=30)\n",
    "\n",
    "# Getting portfolio information\n",
    "portfolio_stocks = portfolio_list_stock[\"Stock_name\"]\n",
    "portfolio_quantity = portfolio_list_quantity[\"Quantity\"]\n",
    "Margin_amount = 14000\n",
    "\n",
    "# Initializing the portfolio DataFrame\n",
    "portfolio_init = pd.DataFrame({\n",
    "    \"Stock\": portfolio_stocks,\n",
    "    \"Quantity\": portfolio_quantity\n",
    "})\n",
    "\n",
    "# Define the start and end dates\n",
    "end_date = dt.datetime.now()\n",
    "start_date = end_date - dt.timedelta(days=30)\n",
    "\n",
    "# Initialize a DataFrame to store daily portfolio values\n",
    "daily_portfolio_values = pd.DataFrame()\n",
    "\n",
    "# Loop through each ticker in the portfolio\n",
    "for index, row in portfolio_init.iterrows():\n",
    "    ticker = row[\"Stock\"]\n",
    "    quantity = row[\"Quantity\"]\n",
    "    try:\n",
    "        # Fetch historical price data (adjusted close prices)\n",
    "        stock_data = Fetch_historical_price(\n",
    "            f\"{ticker}\", start_date, end_date, period=\"d\", columns=[\"adjusted_close\"]\n",
    "        )\n",
    "        \n",
    "        # Add a column for the stock's daily value (price * quantity)\n",
    "        stock_data[\"Daily_Value\"] = stock_data[\"adjusted_close\"] * quantity\n",
    "        \n",
    "        # Add the stock's daily value to the portfolio DataFrame\n",
    "        if daily_portfolio_values.empty:\n",
    "            daily_portfolio_values = stock_data[[\"date\", \"Daily_Value\"]].rename(columns={\"Daily_Value\": ticker})\n",
    "        else:\n",
    "            daily_portfolio_values = daily_portfolio_values.merge(\n",
    "                stock_data[[\"date\", \"Daily_Value\"]].rename(columns={\"Daily_Value\": ticker}),\n",
    "                on=\"date\",\n",
    "                how=\"outer\"\n",
    "            )\n",
    "    except Exception as e:\n",
    "        print(f\"Error processing {ticker}: {e}\")\n",
    "\n",
    "# Calculate the total portfolio value for each day\n",
    "daily_portfolio_values[\"Total_Portfolio_Value\"] = daily_portfolio_values.drop(columns=[\"date\"]).sum(axis=1) - Margin_amount\n",
    "\n",
    "# Add the margin amount as a column\n",
    "daily_portfolio_values[\"Margin_Amount\"] = Margin_amount\n",
    "\n",
    "# Drop rows with NaN values\n",
    "daily_portfolio_values = daily_portfolio_values.dropna()\n",
    "\n",
    "# Display the daily portfolio values\n",
    "print(daily_portfolio_values)"
   ]
  },
  {
   "cell_type": "markdown",
   "metadata": {},
   "source": [
    "# Plotting the daily returns\n",
    "Plotting the daily returns of portfolio and the filtered stocks"
   ]
  },
  {
   "cell_type": "code",
   "execution_count": 43,
   "metadata": {},
   "outputs": [
    {
     "data": {
      "image/png": "[encoded data removed]",
      "text/plain": [
       "<Figure size 1000x600 with 1 Axes>"
      ]
     },
     "metadata": {},
     "output_type": "display_data"
    },
    {
     "data": {
      "image/png": "[encoded data removed]",
      "text/plain": [
       "<Figure size 1000x600 with 1 Axes>"
      ]
     },
     "metadata": {},
     "output_type": "display_data"
    }
   ],
   "source": [
    "# Define the start and end dates -- Make sure it matches the previous cell\n",
    "end_date = dt.datetime.now()\n",
    "start_date = end_date - dt.timedelta(days=30)\n",
    "\n",
    "# Calculate daily returns for Total_Portfolio_Value\n",
    "daily_portfolio_values['daily_return'] = daily_portfolio_values['Total_Portfolio_Value'].pct_change()\n",
    "daily_portfolio_returns = daily_portfolio_values.dropna()\n",
    "\n",
    "# Getting stock list for daily returns\n",
    "filtered_stock_name = filtered_stock_list[\"Stock\"] \n",
    "\n",
    "# Calculating the daily returns for all the stocks in the list\n",
    "daily_returns = calculate_daily_returns(filtered_stock_name[1], start_date, end_date, \"d\")\n",
    "\n",
    "\n",
    "# Plot a histogram of the daily portfolio returns\n",
    "plt.figure(figsize=(10, 6))\n",
    "plt.hist(daily_portfolio_returns['daily_return'], bins=50, color='blue', edgecolor='black', alpha=0.7)\n",
    "plt.title('Histogram of Daily Returns', fontsize=16)\n",
    "plt.xlabel('Daily Returns', fontsize=14)\n",
    "plt.ylabel('Frequency', fontsize=14)\n",
    "plt.grid(axis='y', linestyle='--', alpha=0.7)\n",
    "plt.show()\n",
    "\n",
    "# Plot a histogram of the daily stock returns\n",
    "plt.figure(figsize=(10, 6))\n",
    "plt.hist(daily_returns['daily_return'], bins=50, color='blue', edgecolor='black', alpha=0.7)\n",
    "plt.title('Histogram of Daily Returns', fontsize=16)\n",
    "plt.xlabel('Daily Returns', fontsize=14)\n",
    "plt.ylabel('Frequency', fontsize=14)\n",
    "plt.grid(axis='y', linestyle='--', alpha=0.7)\n",
    "plt.show()\n"
   ]
  },
  {
   "cell_type": "markdown",
   "metadata": {},
   "source": [
    "# Extracting correlation\n",
    "Calculating correclation of all stocks with portfolio"
   ]
  },
  {
   "cell_type": "code",
   "execution_count": 44,
   "metadata": {},
   "outputs": [
    {
     "data": {
      "text/plain": [
       "'# Define the start and end dates -- Make sure it matches the previous cell\\nend_date = dt.datetime.now()\\nstart_date = end_date - dt.timedelta(days=30)\\n\\n# Calculate daily returns for Total_Portfolio_Value\\ndaily_portfolio_values[\\'daily_return\\'] = daily_portfolio_values[\\'Total_Portfolio_Value\\'].pct_change()\\ndaily_portfolio_returns = daily_portfolio_values.dropna()\\n\\n# Initialize a dictionary to store correlations\\ncorrelations = {}\\n\\n# Loop through each stock in the filtered_stock_name\\nfor stock in filtered_stock_name:\\n    try:\\n        # Fetch historical price data for the stock\\n        stock_data = Fetch_historical_price(stock, start_date, end_date, period=\"d\", columns=[\"adjusted_close\"])\\n\\n        # Calculate daily returns for the stock\\n        stock_data[\\'daily_return\\'] = stock_data[\\'adjusted_close\\'].pct_change()\\n        stock_data = stock_data.dropna()\\n\\n        # Merge the stock\\'s daily returns with the portfolio\\'s daily returns\\n        merged_data = pd.merge(\\n            daily_portfolio_returns[[\\'date\\', \\'daily_return\\']],\\n            stock_data[[\\'date\\', \\'daily_return\\']],\\n            on=\\'date\\',\\n            suffixes=(\\'_portfolio\\', f\\'_{stock}\\')\\n        )\\n\\n        # Calculate the correlation\\n        correlation = merged_data[\\'daily_return_portfolio\\'].corr(merged_data[f\\'daily_return_{stock}\\'])\\n        correlations[stock] = correlation\\n    except Exception as e:\\n        print(f\"Error processing {stock}: {e}\")\\n\\n\\n# Convert the correlations dictionary to a DataFrame\\ncorrelations_df = pd.DataFrame(list(correlations.items()), columns=[\\'Stock\\', \\'Correlation_with_Portfolio\\'])\\n\\n# Display the resulting DataFrame\\nprint(correlations_df)'"
      ]
     },
     "execution_count": 44,
     "metadata": {},
     "output_type": "execute_result"
    }
   ],
   "source": [
    "'''# Define the start and end dates -- Make sure it matches the previous cell\n",
    "end_date = dt.datetime.now()\n",
    "start_date = end_date - dt.timedelta(days=30)\n",
    "\n",
    "# Calculate daily returns for Total_Portfolio_Value\n",
    "daily_portfolio_values['daily_return'] = daily_portfolio_values['Total_Portfolio_Value'].pct_change()\n",
    "daily_portfolio_returns = daily_portfolio_values.dropna()\n",
    "\n",
    "# Initialize a dictionary to store correlations\n",
    "correlations = {}\n",
    "\n",
    "# Loop through each stock in the filtered_stock_name\n",
    "for stock in filtered_stock_name:\n",
    "    try:\n",
    "        # Fetch historical price data for the stock\n",
    "        stock_data = Fetch_historical_price(stock, start_date, end_date, period=\"d\", columns=[\"adjusted_close\"])\n",
    "        \n",
    "        # Calculate daily returns for the stock\n",
    "        stock_data['daily_return'] = stock_data['adjusted_close'].pct_change()\n",
    "        stock_data = stock_data.dropna()\n",
    "        \n",
    "        # Merge the stock's daily returns with the portfolio's daily returns\n",
    "        merged_data = pd.merge(\n",
    "            daily_portfolio_returns[['date', 'daily_return']],\n",
    "            stock_data[['date', 'daily_return']],\n",
    "            on='date',\n",
    "            suffixes=('_portfolio', f'_{stock}')\n",
    "        )\n",
    "        \n",
    "        # Calculate the correlation\n",
    "        correlation = merged_data['daily_return_portfolio'].corr(merged_data[f'daily_return_{stock}'])\n",
    "        correlations[stock] = correlation\n",
    "    except Exception as e:\n",
    "        print(f\"Error processing {stock}: {e}\")\n",
    "\n",
    "\n",
    "# Convert the correlations dictionary to a DataFrame\n",
    "correlations_df = pd.DataFrame(list(correlations.items()), columns=['Stock', 'Correlation_with_Portfolio'])\n",
    "\n",
    "# Display the resulting DataFrame\n",
    "print(correlations_df)'''"
   ]
  },
  {
   "cell_type": "code",
   "execution_count": 45,
   "metadata": {},
   "outputs": [
    {
     "name": "stdout",
     "output_type": "stream",
     "text": [
      "        Stock  Correlation_with_Portfolio\n",
      "0      RMS.PA                    0.810345\n",
      "1       MC.PA                    0.696430\n",
      "2       OR.PA                    0.547973\n",
      "3       SU.PA                    0.906959\n",
      "4      TTE.PA                    0.791018\n",
      "..        ...                         ...\n",
      "496    BCS.US                    0.186528\n",
      "497     BK.US                    0.046044\n",
      "498    COR.US                    0.064241\n",
      "499  HKXCY.US                    0.078382\n",
      "500    HWM.US                    0.080530\n",
      "\n",
      "[501 rows x 2 columns]\n"
     ]
    }
   ],
   "source": [
    "# Optimized version using ThreadPoolExecutor for parallel processing\n",
    "\n",
    "# Import necessary libraries\n",
    "from concurrent.futures import ThreadPoolExecutor\n",
    "\n",
    "# Define the start and end dates -- Make sure it matches the previous cell\n",
    "end_date = dt.datetime.now()\n",
    "start_date = end_date - dt.timedelta(days=30)\n",
    "\n",
    "# Calculate daily returns for Total_Portfolio_Value\n",
    "daily_portfolio_values['daily_return'] = daily_portfolio_values['Total_Portfolio_Value'].pct_change()\n",
    "daily_portfolio_returns = daily_portfolio_values.dropna()\n",
    "\n",
    "# Function to process a single stock\n",
    "def process_stock(stock):\n",
    "    try:\n",
    "        # Fetch historical price data for the stock\n",
    "        stock_data = Fetch_historical_price(stock, start_date, end_date, period=\"d\", columns=[\"adjusted_close\"])\n",
    "        \n",
    "        # Calculate daily returns for the stock\n",
    "        stock_data['daily_return'] = stock_data['adjusted_close'].pct_change()\n",
    "        stock_data = stock_data.dropna()\n",
    "        \n",
    "        # Merge the stock's daily returns with the portfolio's daily returns\n",
    "        merged_data = pd.merge(\n",
    "            daily_portfolio_returns[['date', 'daily_return']],\n",
    "            stock_data[['date', 'daily_return']],\n",
    "            on='date',\n",
    "            suffixes=('_portfolio', f'_{stock}')\n",
    "        )\n",
    "        \n",
    "        # Calculate the correlation\n",
    "        correlation = merged_data['daily_return_portfolio'].corr(merged_data[f'daily_return_{stock}'])\n",
    "        return stock, correlation\n",
    "    except Exception as e:\n",
    "        print(f\"Error processing {stock}: {e}\")\n",
    "        return stock, None\n",
    "\n",
    "# Use ThreadPoolExecutor for parallel processing\n",
    "with ThreadPoolExecutor() as executor:\n",
    "    results = list(executor.map(process_stock, filtered_stock_name))\n",
    "\n",
    "# Convert the results to a DataFrame\n",
    "correlations_df = pd.DataFrame(results, columns=['Stock', 'Correlation_with_Portfolio'])\n",
    "\n",
    "# Drop rows with None correlations\n",
    "correlations_df = correlations_df.dropna()\n",
    "\n",
    "# Display the resulting DataFrame\n",
    "print(correlations_df)"
   ]
  },
  {
   "cell_type": "markdown",
   "metadata": {},
   "source": [
    "# Filtering stocks based on correaltion"
   ]
  },
  {
   "cell_type": "code",
   "execution_count": 46,
   "metadata": {},
   "outputs": [
    {
     "name": "stdout",
     "output_type": "stream",
     "text": [
      "        Stock  Correlation_with_Portfolio\n",
      "15      BN.PA                    0.342556\n",
      "17    ENGI.PA                    0.371614\n",
      "19     ORA.PA                   -0.126237\n",
      "45      CA.PA                    0.382415\n",
      "49     UNA.AS                    0.377901\n",
      "..        ...                         ...\n",
      "496    BCS.US                    0.186528\n",
      "497     BK.US                    0.046044\n",
      "498    COR.US                    0.064241\n",
      "499  HKXCY.US                    0.078382\n",
      "500    HWM.US                    0.080530\n",
      "\n",
      "[314 rows x 2 columns]\n"
     ]
    }
   ],
   "source": [
    "# filter the correaltions_df\n",
    "max_correlation = 0.4\n",
    "\n",
    "filtered_correlations_df = correlations_df[correlations_df['Correlation_with_Portfolio'] < max_correlation]\n",
    "print(filtered_correlations_df)"
   ]
  },
  {
   "cell_type": "markdown",
   "metadata": {},
   "source": [
    "# Creating a 6% dividend yield model\n",
    "Calculates the stock price based on a 6% dividend yield"
   ]
  },
  {
   "cell_type": "code",
   "execution_count": 47,
   "metadata": {},
   "outputs": [
    {
     "data": {
      "text/plain": [
       "'# Fetch dividend share for the filtered stock list\\ndividend_share_df = Fetch_dividend_yield(filtered_correlations_df[\"Stock\"])\\nprint(dividend_share_df.head())\\n\\nprint(Fetch_dividend_share([\"KPN.AS\"]))'"
      ]
     },
     "execution_count": 47,
     "metadata": {},
     "output_type": "execute_result"
    }
   ],
   "source": [
    "# Fetching dividend share for stocks\n",
    "\n",
    "def Fetch_dividend_share(tickers_df):\n",
    "    \"\"\"\n",
    "    Fetch dividend share for all stocks in the tickers_df and combine them into a single DataFrame.\n",
    "\n",
    "    Parameters:\n",
    "        tickers_df (list or pd.Series): List of stock tickers (e.g., [\"INGA.AS\", \"ASML.AS\"]).\n",
    "\n",
    "    Returns:\n",
    "        pd.DataFrame: A DataFrame with two columns: 'Ticker' and 'Dividendshare'.\n",
    "    \"\"\"\n",
    "    combined_data = []  # Initialize an empty list to store data\n",
    "\n",
    "    for stock in tickers_df:\n",
    "        try:\n",
    "            # Fetch the dividend share for the current stock\n",
    "            url = f'https://eodhd.com/api/fundamentals/{stock}?api_token={API_Eodhd}&filter=Highlights::DividendShare&fmt=json'\n",
    "            dividend_share = requests.get(url).json()\n",
    "\n",
    "            # Append the stock and dividend yield to the list\n",
    "            combined_data.append({\"Ticker\": stock, \"Dividendshare\": dividend_share})\n",
    "        except Exception as e:\n",
    "            print(f\"Error fetching data for {stock}: {e}\")\n",
    "\n",
    "    # Convert the combined data into a DataFrame\n",
    "    combined_df = pd.DataFrame(combined_data)\n",
    "\n",
    "    # Drop rows with missing dividend yield values\n",
    "    combined_df = combined_df.dropna(subset=[\"Dividendshare\"])\n",
    "\n",
    "    return combined_df\n",
    "\n",
    "\n",
    "def Fetch_dividend_yield(tickers_df):\n",
    "    \"\"\"\n",
    "    Fetch dividend share for all stocks in the tickers_df and combine them into a single DataFrame.\n",
    "\n",
    "    Parameters:\n",
    "        tickers_df (list or pd.Series): List of stock tickers (e.g., [\"INGA.AS\", \"ASML.AS\"]).\n",
    "\n",
    "    Returns:\n",
    "        pd.DataFrame: A DataFrame with two columns: 'Ticker' and 'Dividendshare'.\n",
    "    \"\"\"\n",
    "    combined_data = []  # Initialize an empty list to store data\n",
    "\n",
    "    for stock in tickers_df:\n",
    "        try:\n",
    "            # Fetch the dividend share for the current stock\n",
    "            url = f'https://eodhd.com/api/fundamentals/{stock}?api_token={API_Eodhd}&filter=Highlights::DividendYield&fmt=json'\n",
    "            dividend_yield = requests.get(url).json()\n",
    "\n",
    "            # Append the stock and dividend yield to the list\n",
    "            combined_data.append({\"Ticker\": stock, \"Dividend_yield\": dividend_yield*100})\n",
    "        except Exception as e:\n",
    "            print(f\"Error fetching data for {stock}: {e}\")\n",
    "\n",
    "    # Convert the combined data into a DataFrame\n",
    "    combined_df = pd.DataFrame(combined_data)\n",
    "\n",
    "    # Drop rows with missing dividend yield values\n",
    "    combined_df = combined_df.dropna(subset=[\"Dividend_yield\"])\n",
    "\n",
    "    return combined_df\n",
    "\n",
    "'''# Fetch dividend share for the filtered stock list\n",
    "dividend_share_df = Fetch_dividend_yield(filtered_correlations_df[\"Stock\"])\n",
    "print(dividend_share_df.head())\n",
    "\n",
    "print(Fetch_dividend_share([\"KPN.AS\"]))'''\n"
   ]
  },
  {
   "cell_type": "code",
   "execution_count": 48,
   "metadata": {},
   "outputs": [
    {
     "data": {
      "text/plain": [
       "'# Calculating theoretical stock price, potential, and fetching current dividend yield\\n\\n# Fetch dividend share for the filtered stock list\\nDividend_share = Fetch_dividend_share(filtered_correlations_df[\"Stock\"])\\n\\nTheoretical_DY = 0.06\\n\\n# Ensure \\'Dividendshare\\' is numeric, replace non-numeric values with 0\\nDividend_share[\"Dividendshare\"] = pd.to_numeric(Dividend_share[\"Dividendshare\"], errors=\\'coerce\\').fillna(0)\\n\\n# Calculate the theoretical stock price, handling division by zero\\nDividend_share[\"TheoreticalStockPrice\"] = np.where(\\n    Theoretical_DY != 0,  # Check if the denominator is not zero\\n    Dividend_share[\"Dividendshare\"] / Theoretical_DY,  # Perform the division\\n    0  # Return 0 if the denominator is zero\\n)\\n\\n# Initialize a list to store the average 30-day stock price for each stock\\navg_price_list = []\\n\\n# Loop through each stock in the filtered list\\nfor stock in filtered_correlations_df[\"Stock\"]:\\n    try:\\n        # Fetch historical price data \\n        stock_data = Fetch_historical_price(stock, start_date, end_date, period=\"d\", columns=[\"adjusted_close\"])\\n\\n        # Calculate the average of the adjusted close prices\\n        avg_price = stock_data[\"adjusted_close\"].mean()\\n        avg_price_list.append({\"Ticker\": stock, \"avg_price\": avg_price})\\n    except Exception as e:\\n        print(f\"Error fetching data for {stock}: {e}\")\\n        avg_price_list.append({\"Ticker\": stock, \"avg_price\": None})\\n\\n# Convert the list to a DataFrame\\navg_price_df = pd.DataFrame(avg_price_list)\\n\\n# Merge the average 30-day prices with the Dividend_share DataFrame\\nDividend_share = Dividend_share.merge(avg_price_df, left_on=\"Ticker\", right_on=\"Ticker\")\\n\\n# Calculate the potential, handling division by zero\\nDividend_share[\"Potential\"] = np.where(\\n    Dividend_share[\"avg_price\"] != 0,  # Check if the denominator is not zero\\n    (Dividend_share[\"TheoreticalStockPrice\"] - Dividend_share[\"avg_price\"]) * 100 / Dividend_share[\"avg_price\"],  # Perform the calculation\\n    0  # Return 0 if the denominator is zero\\n)\\n\\n# Fetch the current dividend yield for the filtered stock list\\ndividend_yield_df = Fetch_dividend_yield(filtered_correlations_df[\"Stock\"])\\n\\n# Merge the dividend yield with the Dividend_share DataFrame\\nDividend_share = Dividend_share.merge(dividend_yield_df, left_on=\"Ticker\", right_on=\"Ticker\", how=\"left\")\\n\\n# Round the specified columns to 2 decimal places\\nDividend_share[\"TheoreticalStockPrice\"] = Dividend_share[\"TheoreticalStockPrice\"].round(2)\\nDividend_share[\"avg_price\"] = Dividend_share[\"avg_price\"].round(2)\\nDividend_share[\"Potential\"] = Dividend_share[\"Potential\"].round(2)\\nDividend_share[\"Dividend_yield\"] = Dividend_share[\"Dividend_yield\"].round(2)\\n\\n# Display the updated DataFrame\\nprint(Dividend_share[[\"Ticker\",\"Dividend_yield\" ,\"avg_price\", \"TheoreticalStockPrice\", \"Potential\"]])'"
      ]
     },
     "execution_count": 48,
     "metadata": {},
     "output_type": "execute_result"
    }
   ],
   "source": [
    "'''# Calculating theoretical stock price, potential, and fetching current dividend yield\n",
    "\n",
    "# Fetch dividend share for the filtered stock list\n",
    "Dividend_share = Fetch_dividend_share(filtered_correlations_df[\"Stock\"])\n",
    "\n",
    "Theoretical_DY = 0.06\n",
    "\n",
    "# Ensure 'Dividendshare' is numeric, replace non-numeric values with 0\n",
    "Dividend_share[\"Dividendshare\"] = pd.to_numeric(Dividend_share[\"Dividendshare\"], errors='coerce').fillna(0)\n",
    "\n",
    "# Calculate the theoretical stock price, handling division by zero\n",
    "Dividend_share[\"TheoreticalStockPrice\"] = np.where(\n",
    "    Theoretical_DY != 0,  # Check if the denominator is not zero\n",
    "    Dividend_share[\"Dividendshare\"] / Theoretical_DY,  # Perform the division\n",
    "    0  # Return 0 if the denominator is zero\n",
    ")\n",
    "\n",
    "# Initialize a list to store the average 30-day stock price for each stock\n",
    "avg_price_list = []\n",
    "\n",
    "# Loop through each stock in the filtered list\n",
    "for stock in filtered_correlations_df[\"Stock\"]:\n",
    "    try:\n",
    "        # Fetch historical price data \n",
    "        stock_data = Fetch_historical_price(stock, start_date, end_date, period=\"d\", columns=[\"adjusted_close\"])\n",
    "        \n",
    "        # Calculate the average of the adjusted close prices\n",
    "        avg_price = stock_data[\"adjusted_close\"].mean()\n",
    "        avg_price_list.append({\"Ticker\": stock, \"avg_price\": avg_price})\n",
    "    except Exception as e:\n",
    "        print(f\"Error fetching data for {stock}: {e}\")\n",
    "        avg_price_list.append({\"Ticker\": stock, \"avg_price\": None})\n",
    "\n",
    "# Convert the list to a DataFrame\n",
    "avg_price_df = pd.DataFrame(avg_price_list)\n",
    "\n",
    "# Merge the average 30-day prices with the Dividend_share DataFrame\n",
    "Dividend_share = Dividend_share.merge(avg_price_df, left_on=\"Ticker\", right_on=\"Ticker\")\n",
    "\n",
    "# Calculate the potential, handling division by zero\n",
    "Dividend_share[\"Potential\"] = np.where(\n",
    "    Dividend_share[\"avg_price\"] != 0,  # Check if the denominator is not zero\n",
    "    (Dividend_share[\"TheoreticalStockPrice\"] - Dividend_share[\"avg_price\"]) * 100 / Dividend_share[\"avg_price\"],  # Perform the calculation\n",
    "    0  # Return 0 if the denominator is zero\n",
    ")\n",
    "\n",
    "# Fetch the current dividend yield for the filtered stock list\n",
    "dividend_yield_df = Fetch_dividend_yield(filtered_correlations_df[\"Stock\"])\n",
    "\n",
    "# Merge the dividend yield with the Dividend_share DataFrame\n",
    "Dividend_share = Dividend_share.merge(dividend_yield_df, left_on=\"Ticker\", right_on=\"Ticker\", how=\"left\")\n",
    "\n",
    "# Round the specified columns to 2 decimal places\n",
    "Dividend_share[\"TheoreticalStockPrice\"] = Dividend_share[\"TheoreticalStockPrice\"].round(2)\n",
    "Dividend_share[\"avg_price\"] = Dividend_share[\"avg_price\"].round(2)\n",
    "Dividend_share[\"Potential\"] = Dividend_share[\"Potential\"].round(2)\n",
    "Dividend_share[\"Dividend_yield\"] = Dividend_share[\"Dividend_yield\"].round(2)\n",
    "\n",
    "# Display the updated DataFrame\n",
    "print(Dividend_share[[\"Ticker\",\"Dividend_yield\" ,\"avg_price\", \"TheoreticalStockPrice\", \"Potential\"]])'''\n"
   ]
  },
  {
   "cell_type": "code",
   "execution_count": 49,
   "metadata": {},
   "outputs": [
    {
     "name": "stdout",
     "output_type": "stream",
     "text": [
      "       Ticker Dividend_yield  avg_price  TheoreticalStockPrice  Potential\n",
      "0       BN.PA           2.88      72.12                  35.83     -50.32\n",
      "1     ENGI.PA           8.49      16.87                  24.67      46.24\n",
      "2      ORA.PA           6.08      12.25                  12.50       2.05\n",
      "3       CA.PA           6.69      13.30                  15.33      15.28\n",
      "4      UNA.AS           3.25      54.88                  29.85     -45.61\n",
      "..        ...            ...        ...                    ...        ...\n",
      "309    BCS.US           2.67      14.57                   1.40     -90.39\n",
      "310     BK.US           2.39      77.72                  30.50     -60.76\n",
      "311    COR.US           0.77     281.25                  34.67     -87.67\n",
      "312  HKXCY.US           2.71      42.44                 154.33     263.68\n",
      "313    HWM.US           0.29     125.63                   4.33     -96.55\n",
      "\n",
      "[314 rows x 5 columns]\n"
     ]
    }
   ],
   "source": [
    "#Optimzed version using ThreadPoolExecutor for parallel processing\n",
    "\n",
    "from concurrent.futures import ThreadPoolExecutor\n",
    "\n",
    "# Fetch dividend share for the filtered stock list\n",
    "Dividend_share = Fetch_dividend_share(filtered_correlations_df[\"Stock\"])\n",
    "\n",
    "Theoretical_DY = 0.06\n",
    "\n",
    "# Ensure 'Dividendshare' is numeric, replace non-numeric values with 0\n",
    "Dividend_share[\"Dividendshare\"] = pd.to_numeric(Dividend_share[\"Dividendshare\"], errors='coerce').fillna(0)\n",
    "\n",
    "# Calculate the theoretical stock price, handling division by zero\n",
    "Dividend_share[\"TheoreticalStockPrice\"] = np.where(\n",
    "    Theoretical_DY != 0,  # Check if the denominator is not zero\n",
    "    Dividend_share[\"Dividendshare\"] / Theoretical_DY,  # Perform the division\n",
    "    0  # Return 0 if the denominator is zero\n",
    ")\n",
    "\n",
    "# Function to fetch and calculate the average price for a single stock\n",
    "def fetch_avg_price(stock):\n",
    "    try:\n",
    "        # Fetch historical price data\n",
    "        stock_data = Fetch_historical_price(stock, start_date, end_date, period=\"d\", columns=[\"adjusted_close\"])\n",
    "        \n",
    "        # Calculate the average of the adjusted close prices\n",
    "        avg_price = stock_data[\"adjusted_close\"].mean()\n",
    "        return {\"Ticker\": stock, \"avg_price\": avg_price}\n",
    "    except Exception as e:\n",
    "        print(f\"Error fetching data for {stock}: {e}\")\n",
    "        return {\"Ticker\": stock, \"avg_price\": None}\n",
    "\n",
    "# Use ThreadPoolExecutor for parallel processing\n",
    "with ThreadPoolExecutor() as executor:\n",
    "    avg_price_list = list(executor.map(fetch_avg_price, filtered_correlations_df[\"Stock\"]))\n",
    "\n",
    "# Convert the list to a DataFrame\n",
    "avg_price_df = pd.DataFrame(avg_price_list)\n",
    "\n",
    "# Merge the average 30-day prices with the Dividend_share DataFrame\n",
    "Dividend_share = Dividend_share.merge(avg_price_df, left_on=\"Ticker\", right_on=\"Ticker\")\n",
    "\n",
    "# Calculate the potential, handling division by zero\n",
    "Dividend_share[\"Potential\"] = np.where(\n",
    "    Dividend_share[\"avg_price\"] != 0,  # Check if the denominator is not zero\n",
    "    (Dividend_share[\"TheoreticalStockPrice\"] - Dividend_share[\"avg_price\"]) * 100 / Dividend_share[\"avg_price\"],  # Perform the calculation\n",
    "    0  # Return 0 if the denominator is zero\n",
    ")\n",
    "\n",
    "# Fetch the current dividend yield for the filtered stock list\n",
    "dividend_yield_df = Fetch_dividend_yield(filtered_correlations_df[\"Stock\"])\n",
    "\n",
    "# Merge the dividend yield with the Dividend_share DataFrame\n",
    "Dividend_share = Dividend_share.merge(dividend_yield_df, left_on=\"Ticker\", right_on=\"Ticker\", how=\"left\")\n",
    "\n",
    "# Round the specified columns to 2 decimal places\n",
    "Dividend_share[\"TheoreticalStockPrice\"] = Dividend_share[\"TheoreticalStockPrice\"].round(2)\n",
    "Dividend_share[\"avg_price\"] = Dividend_share[\"avg_price\"].round(2)\n",
    "Dividend_share[\"Potential\"] = Dividend_share[\"Potential\"].round(2)\n",
    "Dividend_share[\"Dividend_yield\"] = Dividend_share[\"Dividend_yield\"].round(2)\n",
    "\n",
    "# Display the updated DataFrame\n",
    "print(Dividend_share[[\"Ticker\", \"Dividend_yield\", \"avg_price\", \"TheoreticalStockPrice\", \"Potential\"]])"
   ]
  },
  {
   "cell_type": "markdown",
   "metadata": {},
   "source": [
    "# Exporting output to excel\n",
    "Creates an excel export in the python folder"
   ]
  },
  {
   "cell_type": "code",
   "execution_count": 50,
   "metadata": {},
   "outputs": [
    {
     "name": "stdout",
     "output_type": "stream",
     "text": [
      "Data exported to strangle_excel.xlsx\n"
     ]
    }
   ],
   "source": [
    "# Define the output file path\n",
    "output_excel_path = \"strangle_excel.xlsx\"\n",
    "\n",
    "# Create a Pandas Excel writer using ExcelWriter\n",
    "with pd.ExcelWriter(output_excel_path, engine='openpyxl') as writer:\n",
    "    # Write filtered_correlations_df to the first sheet\n",
    "    filtered_correlations_df.to_excel(writer, sheet_name='Filtered Correlations', index=False)\n",
    "    \n",
    "    # Write Dividend_share to the second sheet\n",
    "    Dividend_share.to_excel(writer, sheet_name='Dividend Share', index=False)\n",
    "\n",
    "print(f\"Data exported to {output_excel_path}\")"
   ]
  },
  {
   "cell_type": "markdown",
   "metadata": {},
   "source": [
    "# Analyzing Carrefour stock\n",
    "Analyzing ex-dividend strategy"
   ]
  },
  {
   "cell_type": "code",
   "execution_count": null,
   "metadata": {},
   "outputs": [
    {
     "name": "stdout",
     "output_type": "stream",
     "text": [
      "         date  adjusted_close\n",
      "0  2024-05-02         14.7071\n",
      "1  2024-05-03         14.7876\n",
      "2  2024-05-06         14.9012\n",
      "3  2024-05-07         14.9958\n",
      "4  2024-05-08         15.2041\n"
     ]
    }
   ],
   "source": [
    "Start_date = \"2024-05-01\"\n",
    "End_date = \"2024-05-31\"\n",
    "\n",
    "CA = Fetch_historical_price(\"CA.PA\", Start_date , End_date, period=\"d\", columns=[\"adjusted_close\"])\n"
   ]
  },
  {
   "cell_type": "code",
   "execution_count": null,
   "metadata": {},
   "outputs": [],
   "source": [
    "%pip install plotly\n",
    "import plotly.express as px\n",
    "\n",
    "# Plotting the time series graph for the CA dataframe\n",
    "fig = px.line(CA, x='date', y='adjusted_close', title='Time Series of Adjusted Close Prices for CA',\n",
    "              labels={'date': 'Date', 'adjusted_close': 'Adjusted Close Price'})\n",
    "fig.update_traces(mode='lines+markers', line_color='blue')\n",
    "fig.update_layout(title_font_size=16, xaxis_title_font_size=14, yaxis_title_font_size=14)\n",
    "fig.show()\n"
   ]
  }
 ],
 "metadata": {
  "kernelspec": {
   "display_name": "Python 3",
   "language": "python",
   "name": "python3"
  },
  "language_info": {
   "codemirror_mode": {
    "name": "ipython",
    "version": 3
   },
   "file_extension": ".py",
   "mimetype": "text/x-python",
   "name": "python",
   "nbconvert_exporter": "python",
   "pygments_lexer": "ipython3",
   "version": "3.13.2"
  }
 },
 "nbformat": 4,
 "nbformat_minor": 2
}
