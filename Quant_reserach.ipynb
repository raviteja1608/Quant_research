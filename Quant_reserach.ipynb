{
 "cells": [
  {
   "cell_type": "code",
   "execution_count": 3,
   "metadata": {},
   "outputs": [
    {
     "name": "stdout",
     "output_type": "stream",
     "text": [
      "Hello\n",
      "Helo world!\n"
     ]
    }
   ],
   "source": [
    "#Printing hello world\n",
    "\n",
    "print(\"Hello\")\n",
    "print(\"Helo world!\")"
   ]
  },
  {
   "cell_type": "code",
   "execution_count": 4,
   "metadata": {},
   "outputs": [
    {
     "name": "stdout",
     "output_type": "stream",
     "text": [
      "File loaded successfully!\n",
      "      TICKER                               NAME           EXCHANGE_DESC  \\\n",
      "0  0QBON-MEX              Coloplast A/S Class B  Mexican Stock Exchange   \n",
      "1  0R87N-MEX              ASSA ABLOY AB Class B  Mexican Stock Exchange   \n",
      "2  1093N-MEX  CSPC Pharmaceutical Group Limited  Mexican Stock Exchange   \n",
      "3  1113N-MEX          CK Asset Holdings Limited  Mexican Stock Exchange   \n",
      "4  1299N-MEX                  AIA Group Limited  Mexican Stock Exchange   \n",
      "\n",
      "         DATE  PRICE_DATE CURRENCY    PRICE  PRICE_OPEN  PRICE_HIGH  \\\n",
      "0  2024-03-31  2024-03-20      MXN  2082.59         NaN         NaN   \n",
      "1  2024-03-31  2024-03-11      MXN   424.56         NaN         NaN   \n",
      "2  2024-03-31  2024-03-26      MXN    15.69         NaN         NaN   \n",
      "3  2024-03-31  2024-03-27      MXN    68.43         NaN         NaN   \n",
      "4  2024-03-31  2024-03-22      MXN   125.87         NaN         NaN   \n",
      "\n",
      "   PRICE_LOW  VOLUME  \n",
      "0        NaN   627.0  \n",
      "1        NaN  3179.0  \n",
      "2        NaN     0.0  \n",
      "3        NaN     NaN  \n",
      "4        NaN  6141.0  \n"
     ]
    }
   ],
   "source": [
    "import pandas as pd\n",
    "import os\n",
    "\n",
    "# File path\n",
    "file_path = r\"c:\\python\\Quant Research\\prices_hist_1Y_amer_20250301.csv\"\n",
    "\n",
    "# Check if the file exists and load the CSV file\n",
    "if not os.path.exists(file_path):\n",
    "    print(f\"Error: The file at {file_path} was not found. Please verify the file path.\")\n",
    "else:\n",
    "    # Load the CSV file into a Pandas DataFrame\n",
    "    try:\n",
    "        price_1Y = pd.read_csv(file_path)\n",
    "        print(\"File loaded successfully!\")\n",
    "        print(price_1Y.head())  # Display the first few rows of the DataFrame\n",
    "    except Exception as e:\n",
    "        print(f\"An error occurred while loading the file: {e}\")\n",
    "\n"
   ]
  },
  {
   "cell_type": "code",
   "execution_count": 11,
   "metadata": {},
   "outputs": [
    {
     "name": "stdout",
     "output_type": "stream",
     "text": [
      "  TICKER_CVX  PRICE_DATE  PRICE_CVX TICKER_MDLZ  PRICE_MDLZ   TICKER  \\\n",
      "0     CVX-US  2024-03-28     157.74     MDLZ-US       70.00  AAPL-US   \n",
      "1     CVX-US  2024-04-30     161.27     MDLZ-US       71.94  AAPL-US   \n",
      "2     CVX-US  2024-05-31     162.30     MDLZ-US       68.53  AAPL-US   \n",
      "3     CVX-US  2024-06-28     156.42     MDLZ-US       65.44  AAPL-US   \n",
      "4     CVX-US  2024-07-31     160.47     MDLZ-US       68.35  AAPL-US   \n",
      "\n",
      "   PRICE_AAPL  \n",
      "0      171.48  \n",
      "1      170.33  \n",
      "2      192.25  \n",
      "3      210.62  \n",
      "4      222.08  \n",
      "Pairwise Correlation Matrix:\n",
      "            PRICE_CVX  PRICE_MDLZ  PRICE_AAPL\n",
      "PRICE_CVX    1.000000    0.180972   -0.544940\n",
      "PRICE_MDLZ   0.180972    1.000000   -0.518584\n",
      "PRICE_AAPL  -0.544940   -0.518584    1.000000\n"
     ]
    }
   ],
   "source": [
    "\n",
    "# Filter the DataFrame for rows where the ticker is 'CVX' and 'MDLZ'\n",
    "cvx_data = price_1Y[price_1Y['TICKER'] == 'CVX-US'][['TICKER', 'PRICE_DATE', 'PRICE']]\n",
    "mdlz_data = price_1Y[price_1Y['TICKER'] == 'MDLZ-US'][['TICKER', 'PRICE_DATE', 'PRICE']]\n",
    "aapl_data = price_1Y[price_1Y['TICKER'] == 'AAPL-US'][['TICKER', 'PRICE_DATE', 'PRICE']]\n",
    "\n",
    "# Merge the three datasets on PRICE_DATE to align them\n",
    "merged_data_all = pd.merge(cvx_data, mdlz_data, on='PRICE_DATE', suffixes=('_CVX', '_MDLZ'))\n",
    "merged_data_all = pd.merge(merged_data_all, aapl_data, on='PRICE_DATE')\n",
    "\n",
    "# Rename the PRICE column for AAPL to avoid confusion\n",
    "merged_data_all.rename(columns={'PRICE': 'PRICE_AAPL'}, inplace=True)\n",
    "\n",
    "# Select only the PRICE columns for correlation calculation\n",
    "price_data = merged_data_all[['PRICE_CVX', 'PRICE_MDLZ', 'PRICE_AAPL']]\n",
    "\n",
    "print(merged_data_all.head())  # Display the first few rows of the merged DataFrame\n",
    "# Calculate the pairwise correlation matrix\n",
    "correlation_matrix = price_data.corr()\n",
    "\n",
    "# Display the correlation matrix\n",
    "print(\"Pairwise Correlation Matrix:\")\n",
    "print(correlation_matrix)"
   ]
  },
  {
   "cell_type": "code",
   "execution_count": 28,
   "metadata": {},
   "outputs": [
    {
     "name": "stdout",
     "output_type": "stream",
     "text": [
      "Account Summary:\n",
      "AccountType: INDIVIDUAL\n",
      "Cushion: 0.657678\n",
      "LookAheadNextChange: 1743235200\n",
      "AccruedCash: -19.36\n",
      "AvailableFunds: 15915.21\n",
      "BuyingPower: 106101.43\n",
      "EquityWithLoanValue: 26234.56\n",
      "ExcessLiquidity: 17254.26\n",
      "FullAvailableFunds: 15915.21\n",
      "FullExcessLiquidity: 17254.26\n",
      "FullInitMarginReq: 10319.35\n",
      "FullMaintMarginReq: 8980.87\n",
      "GrossPositionValue: 36388.23\n",
      "InitMarginReq: 10319.35\n",
      "LookAheadAvailableFunds: 15915.21\n",
      "LookAheadExcessLiquidity: 17254.26\n",
      "LookAheadInitMarginReq: 10319.35\n",
      "LookAheadMaintMarginReq: 8980.87\n",
      "MaintMarginReq: 8980.87\n",
      "NetLiquidation: 26235.13\n",
      "TotalCashValue: -10133.74\n",
      "AccountType: INDIVIDUAL\n",
      "Cushion: 1\n",
      "LookAheadNextChange: 1743235200\n",
      "AccruedCash: 0.00\n",
      "AvailableFunds: 4550.51\n",
      "BuyingPower: 30336.71\n",
      "EquityWithLoanValue: 5969.24\n",
      "ExcessLiquidity: 4735.56\n",
      "FullAvailableFunds: 4550.51\n",
      "FullExcessLiquidity: 4735.56\n",
      "FullInitMarginReq: 1418.73\n",
      "FullMaintMarginReq: 1233.68\n",
      "GrossPositionValue: 4934.72\n",
      "InitMarginReq: 1418.73\n",
      "LookAheadAvailableFunds: 4550.51\n",
      "LookAheadExcessLiquidity: 4735.56\n",
      "LookAheadInitMarginReq: 1418.73\n",
      "LookAheadMaintMarginReq: 1233.68\n",
      "MaintMarginReq: 1233.68\n",
      "NetLiquidation: 5969.24\n",
      "TotalCashValue: 1034.52\n",
      "Currency: EUR\n",
      "CashBalance: -9207.68\n",
      "TotalCashBalance: -9207.68\n",
      "AccruedCash: -19.36\n",
      "StockMarketValue: 40166.25\n",
      "OptionMarketValue: 0.00\n",
      "FutureOptionValue: 0.00\n",
      "FuturesPNL: 0.00\n",
      "NetLiquidationByCurrency: 30939.214\n",
      "UnrealizedPnL: -716.36\n",
      "RealizedPnL: 0.00\n",
      "ExchangeRate: 1.00\n",
      "FundValue: 0.00\n",
      "NetDividend: 0.00\n",
      "MutualFundValue: 0.00\n",
      "MoneyMarketFundValue: 0.00\n",
      "CorporateBondValue: 0.00\n",
      "TBondValue: 0.00\n",
      "TBillValue: 0.00\n",
      "WarrantValue: 0.00\n",
      "FxCashBalance: 0.00\n",
      "AccountOrGroup: All\n",
      "RealCurrency: EUR\n",
      "IssuerOptionValue: 0.00\n",
      "Cryptocurrency: \n",
      "Currency: USD\n",
      "CashBalance: 117.44\n",
      "TotalCashBalance: 117.44\n",
      "AccruedCash: 0.00\n",
      "StockMarketValue: 1252.50\n",
      "OptionMarketValue: 0.00\n",
      "FutureOptionValue: 0.00\n",
      "FuturesPNL: 0.00\n",
      "NetLiquidationByCurrency: 1369.943\n",
      "UnrealizedPnL: -16.79\n",
      "RealizedPnL: 0.00\n",
      "ExchangeRate: 0.9235092\n",
      "FundValue: 0.00\n",
      "NetDividend: 0.00\n",
      "MutualFundValue: 0.00\n",
      "MoneyMarketFundValue: 0.00\n",
      "CorporateBondValue: 0.00\n",
      "TBondValue: 0.00\n",
      "TBillValue: 0.00\n",
      "WarrantValue: 0.00\n",
      "FxCashBalance: 0.00\n",
      "AccountOrGroup: All\n",
      "RealCurrency: USD\n",
      "IssuerOptionValue: 0.00\n",
      "Cryptocurrency: \n",
      "Currency: BASE\n",
      "CashBalance: -9099.223\n",
      "TotalCashBalance: -9099.223\n",
      "AccruedCash: -19.36\n",
      "StockMarketValue: 41322.95\n",
      "OptionMarketValue: 0.00\n",
      "FutureOptionValue: 0.00\n",
      "FuturesPNL: 0.00\n",
      "NetLiquidationByCurrency: 32204.369\n",
      "UnrealizedPnL: -731.87\n",
      "RealizedPnL: 0.00\n",
      "ExchangeRate: 1.00\n",
      "FundValue: 0.00\n",
      "NetDividend: 0.00\n",
      "MutualFundValue: 0.00\n",
      "MoneyMarketFundValue: 0.00\n",
      "CorporateBondValue: 0.00\n",
      "TBondValue: 0.00\n",
      "TBillValue: 0.00\n",
      "WarrantValue: 0.00\n",
      "FxCashBalance: 0.00\n",
      "AccountOrGroup: All\n",
      "RealCurrency: BASE\n",
      "IssuerOptionValue: 0.00\n",
      "Cryptocurrency: \n",
      "\n",
      "Trading Positions:\n",
      "Contract: MDLZ, Position: 10.0, Avg Cost: 69.93313\n",
      "Contract: CVX, Position: 3.4427, Avg Cost: 165.5569466\n",
      "Contract: IUSA, Position: 689.2197, Avg Cost: 52.0648831\n",
      "Contract: IUSA, Position: 76.1739, Avg Cost: 52.6393266\n",
      "Contract: IJPN, Position: 64.0, Avg Cost: 15.44890625\n"
     ]
    }
   ],
   "source": [
    "#%pip install ib_insync\n",
    "from ib_insync import *\n",
    "\n",
    "# Connect to TWS or IB Gateway\n",
    "ib = IB()\n",
    "\n",
    "# Use asyncio to handle the event loop in Jupyter\n",
    "async def main():\n",
    "    # Connect to IBKR Gateway\n",
    "    await ib.connectAsync('127.0.0.1', 4001, clientId=6)  # Use the correct port and clientId\n",
    "\n",
    "    # Retrieve account information asynchronously\n",
    "    account_summary = await ib.accountSummaryAsync()\n",
    "    print(\"Account Summary:\")\n",
    "    for item in account_summary:\n",
    "        print(f\"{item.tag}: {item.value}\")\n",
    "\n",
    "    # Retrieve trading positions\n",
    "    positions = ib.positions()\n",
    "    print(\"\\nTrading Positions:\")\n",
    "    for position in positions:\n",
    "        print(f\"Contract: {position.contract.symbol}, Position: {position.position}, Avg Cost: {position.avgCost}\")\n",
    "\n",
    "    # Disconnect from IBKR Gateway\n",
    "    ib.disconnect()\n",
    "\n",
    "# Run the main function in Jupyter\n",
    "await main()"
   ]
  },
  {
   "cell_type": "code",
   "execution_count": 30,
   "metadata": {},
   "outputs": [
    {
     "name": "stdout",
     "output_type": "stream",
     "text": [
      "{'code': 'CVX.US', 'timestamp': 1743192780, 'gmtoffset': 0, 'open': 166.7, 'high': 167.13, 'low': 165.295, 'close': 166.09, 'volume': 4840078, 'previousClose': 166.65, 'change': -0.56, 'change_p': -0.336}\n"
     ]
    }
   ],
   "source": [
    "import requests\n",
    "\n",
    "url = f'https://eodhd.com/api/real-time/CVX.US?api_token=66c0aeb1357b15.87356825&fmt=json'\n",
    "data = requests.get(url).json()\n",
    "\n",
    "print(data)"
   ]
  },
  {
   "cell_type": "code",
   "execution_count": 38,
   "metadata": {},
   "outputs": [
    {
     "name": "stdout",
     "output_type": "stream",
     "text": [
      "Order Status: PendingSubmit\n",
      "Filled: 0.0, Remaining: 0.0\n"
     ]
    }
   ],
   "source": [
    "#%pip install ib_insync\n",
    "from ib_insync import *\n",
    "\n",
    "# Connect to TWS or IB Gateway\n",
    "ib = IB()\n",
    "\n",
    "# Use asyncio to handle the event loop in Jupyter\n",
    "async def main():\n",
    "    # Connect to IBKR Gateway\n",
    "    await ib.connectAsync('127.0.0.1', 4001, clientId=9)  # Use the correct port and clientId\n",
    "\n",
    "    # Define the contract for IUSA (e.g., iShares Core MSCI Europe ETF)\n",
    "    contract = Stock('IUSA', 'SMART', 'EUR')  # Replace with the correct exchange and currency if needed\n",
    "\n",
    "    # Qualify the contract asynchronously to ensure it is valid\n",
    "    await ib.qualifyContractsAsync(contract)\n",
    "\n",
    "    # Specify your account (replace 'U1234567' with your actual account ID)\n",
    "    account = 'U11507596'  # Replace with your IBKR account ID\n",
    "\n",
    "    # Define the limit order with the account specified\n",
    "    limit_order = LimitOrder('BUY', 40, 40.00, account=account)  # Buy 40 shares at a limit price of 40 EUR\n",
    "\n",
    "    # Place the order\n",
    "    trade = ib.placeOrder(contract, limit_order)\n",
    "\n",
    "      \n",
    "\n",
    "    # Print the order status\n",
    "    print(f\"Order Status: {trade.orderStatus.status}\")\n",
    "    print(f\"Filled: {trade.orderStatus.filled}, Remaining: {trade.orderStatus.remaining}\")\n",
    "\n",
    "    # Disconnect from IBKR Gateway\n",
    "    ib.disconnect()\n",
    "\n",
    "# Run the main function in Jupyter\n",
    "await main()"
   ]
  },
  {
   "cell_type": "code",
   "execution_count": 47,
   "metadata": {},
   "outputs": [
    {
     "name": "stdout",
     "output_type": "stream",
     "text": [
      "Found 0 open orders.\n",
      "Remaining open orders after cancellation: 0\n"
     ]
    }
   ],
   "source": [
    "#%pip install ib_insync\n",
    "from ib_insync import *\n",
    "\n",
    "# Connect to TWS or IB Gateway\n",
    "ib = IB()\n",
    "\n",
    "# Use asyncio to handle the event loop in Jupyter\n",
    "async def main():\n",
    "    # Connect to IBKR Gateway\n",
    "    await ib.connectAsync('127.0.0.1', 4001, clientId=11)  # Use the correct port and clientId\n",
    "\n",
    "    # Retrieve all open orders asynchronously\n",
    "    open_orders = await ib.reqOpenOrdersAsync()\n",
    "    print(f\"Found {len(open_orders)} open orders.\")\n",
    "\n",
    "    # Cancel each open order\n",
    "    for trade in open_orders:\n",
    "        print(f\"Cancelling order: {trade.order}\")\n",
    "        ib.cancelOrder(trade.order)\n",
    "\n",
    "    # Wait for cancellation to complete\n",
    "    await asyncio.sleep(2)  # Allow time for cancellations to process\n",
    "\n",
    "    # Verify that all orders are canceled\n",
    "    open_orders_after = await ib.reqOpenOrdersAsync()\n",
    "    print(f\"Remaining open orders after cancellation: {len(open_orders_after)}\")\n",
    "\n",
    "    # Disconnect from IBKR Gateway\n",
    "    ib.disconnect()\n",
    "\n",
    "# Run the main function in Jupyter\n",
    "await main()"
   ]
  },
  {
   "cell_type": "code",
   "execution_count": 53,
   "metadata": {},
   "outputs": [
    {
     "name": "stdout",
     "output_type": "stream",
     "text": [
      "Connecting to IBKR Gateway with client ID: 1\n"
     ]
    },
    {
     "name": "stderr",
     "output_type": "stream",
     "text": [
      "Peer closed connection. clientId 1 already in use?\n",
      "API connection failed: TimeoutError()\n"
     ]
    },
    {
     "name": "stdout",
     "output_type": "stream",
     "text": [
      "Error connecting with client ID 1: \n",
      "Disconnecting client ID: 1\n",
      "Connecting to IBKR Gateway with client ID: 2\n",
      "Connected with client ID: 2\n",
      "Disconnecting client ID: 2\n",
      "Connecting to IBKR Gateway with client ID: 3\n"
     ]
    },
    {
     "name": "stderr",
     "output_type": "stream",
     "text": [
      "Peer closed connection. clientId 3 already in use?\n",
      "API connection failed: TimeoutError()\n"
     ]
    },
    {
     "name": "stdout",
     "output_type": "stream",
     "text": [
      "Error connecting with client ID 3: \n",
      "Disconnecting client ID: 3\n",
      "Connecting to IBKR Gateway with client ID: 4\n"
     ]
    },
    {
     "name": "stderr",
     "output_type": "stream",
     "text": [
      "Peer closed connection. clientId 4 already in use?\n",
      "API connection failed: TimeoutError()\n"
     ]
    },
    {
     "name": "stdout",
     "output_type": "stream",
     "text": [
      "Error connecting with client ID 4: \n",
      "Disconnecting client ID: 4\n",
      "Connecting to IBKR Gateway with client ID: 5\n"
     ]
    },
    {
     "name": "stderr",
     "output_type": "stream",
     "text": [
      "Peer closed connection. clientId 5 already in use?\n",
      "API connection failed: TimeoutError()\n"
     ]
    },
    {
     "name": "stdout",
     "output_type": "stream",
     "text": [
      "Error connecting with client ID 5: \n",
      "Disconnecting client ID: 5\n",
      "Connecting to IBKR Gateway with client ID: 6\n",
      "Connected with client ID: 6\n",
      "Disconnecting client ID: 6\n",
      "Connecting to IBKR Gateway with client ID: 7\n"
     ]
    },
    {
     "name": "stderr",
     "output_type": "stream",
     "text": [
      "Peer closed connection. clientId 7 already in use?\n",
      "API connection failed: TimeoutError()\n"
     ]
    },
    {
     "name": "stdout",
     "output_type": "stream",
     "text": [
      "Error connecting with client ID 7: \n",
      "Disconnecting client ID: 7\n",
      "Connecting to IBKR Gateway with client ID: 8\n"
     ]
    },
    {
     "name": "stderr",
     "output_type": "stream",
     "text": [
      "Peer closed connection. clientId 8 already in use?\n",
      "API connection failed: TimeoutError()\n"
     ]
    },
    {
     "name": "stdout",
     "output_type": "stream",
     "text": [
      "Error connecting with client ID 8: \n",
      "Disconnecting client ID: 8\n",
      "Connecting to IBKR Gateway with client ID: 9\n",
      "Connected with client ID: 9\n",
      "Disconnecting client ID: 9\n",
      "Connecting to IBKR Gateway with client ID: 10\n"
     ]
    },
    {
     "name": "stderr",
     "output_type": "stream",
     "text": [
      "Peer closed connection. clientId 10 already in use?\n",
      "API connection failed: TimeoutError()\n"
     ]
    },
    {
     "name": "stdout",
     "output_type": "stream",
     "text": [
      "Error connecting with client ID 10: \n",
      "Disconnecting client ID: 10\n",
      "Connecting to IBKR Gateway with client ID: 11\n",
      "Connected with client ID: 11\n",
      "Disconnecting client ID: 11\n"
     ]
    }
   ],
   "source": [
    "#%pip install ib_insync\n",
    "from ib_insync import *\n",
    "\n",
    "# Generate a list of 10 client IDs (e.g., 1 to 10)\n",
    "client_ids = [i for i in range(1, 12)]  # Generates client IDs from 1 to 10\n",
    "\n",
    "# Function to cancel all open orders and disconnect for a specific client ID\n",
    "async def cancel_orders_and_disconnect(client_id):\n",
    "    print(f\"Connecting to IBKR Gateway with client ID: {client_id}\")\n",
    "    ib = IB()\n",
    "    try:\n",
    "        # Attempt to connect to IBKR Gateway\n",
    "        await ib.connectAsync('127.0.0.1', 4001, clientId=client_id)\n",
    "        print(f\"Connected with client ID: {client_id}\")\n",
    "    except Exception as e:\n",
    "        print(f\"Error connecting with client ID {client_id}: {e}\")\n",
    "    finally:\n",
    "        # Disconnect from IBKR Gateway\n",
    "        print(f\"Disconnecting client ID: {client_id}\")\n",
    "        ib.disconnect()\n",
    "\n",
    "# Main function to cancel orders and disconnect for all client IDs\n",
    "async def main():\n",
    "    for client_id in client_ids:\n",
    "        await cancel_orders_and_disconnect(client_id)\n",
    "\n",
    "# Run the main function in Jupyter\n",
    "await main()"
   ]
  }
 ],
 "metadata": {
  "kernelspec": {
   "display_name": "base",
   "language": "python",
   "name": "python3"
  },
  "language_info": {
   "codemirror_mode": {
    "name": "ipython",
    "version": 3
   },
   "file_extension": ".py",
   "mimetype": "text/x-python",
   "name": "python",
   "nbconvert_exporter": "python",
   "pygments_lexer": "ipython3",
   "version": "3.12.4"
  }
 },
 "nbformat": 4,
 "nbformat_minor": 2
}
