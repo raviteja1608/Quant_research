{
 "cells": [
  {
   "cell_type": "markdown",
   "metadata": {},
   "source": [
    "# Import Required Libraries\n",
    "Import the necessary libraries, such as requests, for making API calls."
   ]
  },
  {
   "cell_type": "code",
   "execution_count": 7,
   "metadata": {},
   "outputs": [
    {
     "name": "stderr",
     "output_type": "stream",
     "text": [
      "c:\\Users\\ravit\\AppData\\Local\\Programs\\Python\\Python313\\Lib\\site-packages\\tqdm\\auto.py:21: TqdmWarning: IProgress not found. Please update jupyter and ipywidgets. See https://ipywidgets.readthedocs.io/en/stable/user_install.html\n",
      "  from .autonotebook import tqdm as notebook_tqdm\n"
     ]
    }
   ],
   "source": [
    "# Import the necessary library for making API calls\n",
    "#%pip install requests\n",
    "#%pip install pandas\n",
    "#%pip install datetime\n",
    "#%pip install os\n",
    "#%pip install cudf\n",
    "#%pip install cupy\n",
    "#%pip install openpyxl\n",
    "#%pip install textblob\n",
    "#%pip install transformers\n",
    "#%pip install torch\n",
    "import requests\n",
    "import pandas as pd\n",
    "import datetime as dt\n",
    "import os\n",
    "from textblob import TextBlob\n",
    "from transformers import pipeline"
   ]
  },
  {
   "cell_type": "markdown",
   "metadata": {},
   "source": [
    "# Define API Key\n",
    "Define the API key"
   ]
  },
  {
   "cell_type": "code",
   "execution_count": 8,
   "metadata": {},
   "outputs": [],
   "source": [
    "API_Eodhd = \"66c0aeb1357b15.87356825\""
   ]
  },
  {
   "cell_type": "markdown",
   "metadata": {},
   "source": [
    "# Get list of tickets under an exchange\n",
    "Define a function get list of tickers under an exchange"
   ]
  },
  {
   "cell_type": "code",
   "execution_count": 16,
   "metadata": {},
   "outputs": [
    {
     "data": {
      "text/plain": [
       "'tickers = fetch_exchange_symbols(\"AS\")\\nprint(tickers)'"
      ]
     },
     "execution_count": 16,
     "metadata": {},
     "output_type": "execute_result"
    }
   ],
   "source": [
    "def fetch_exchanges_list(api_token=API_Eodhd, filtered_columns=[\"Name\", \"Code\", \"Country\", \"Currency\"]):\n",
    "    \"\"\"\n",
    "    Fetch the list of exchanges from the EODHD API and return it as a filtered Pandas DataFrame.\n",
    "\n",
    "    Parameters:\n",
    "        api_token (str): Your API token for authentication.\n",
    "        filtered_columns (list): List of columns to include in the output DataFrame.\n",
    "\n",
    "    Returns:\n",
    "        pd.DataFrame: The exchange list as a Pandas DataFrame with selected columns.\n",
    "    \"\"\"\n",
    "    url = f'https://eodhd.com/api/exchanges-list/?api_token={api_token}&fmt=json'\n",
    "    response = requests.get(url).json()\n",
    "    \n",
    "    # Convert JSON to Pandas DataFrame\n",
    "    exchanges_df = pd.DataFrame(response)\n",
    "    \n",
    "    # Filter columns if specified\n",
    "    if filtered_columns:\n",
    "\n",
    "        exchanges_df = exchanges_df[filtered_columns]\n",
    "    \n",
    "    return exchanges_df\n",
    "\n",
    "def fetch_exchange_symbols(exchange_code, api_token=API_Eodhd, filtered_columns=None):\n",
    "    \"\"\"\n",
    "    Fetch the symbol list for a given exchange from the EODHD API and return it as a Pandas DataFrame.\n",
    "\n",
    "    Parameters:\n",
    "        exchange_code (str): The code of the exchange (e.g., \"US\").\n",
    "        api_token (str): Your API token for authentication.\n",
    "        filtered_columns (list): List of columns to include in the output DataFrame (optional).\n",
    "\n",
    "    Returns:\n",
    "        pd.DataFrame: The symbol list as a Pandas DataFrame with selected columns.\n",
    "    \"\"\"\n",
    "    url = f'https://eodhd.com/api/exchange-symbol-list/{exchange_code}?api_token={api_token}&fmt=json'\n",
    "    response = requests.get(url).json()\n",
    "    \n",
    "    # Convert JSON to Pandas DataFrame\n",
    "    symbols_df = pd.DataFrame(response)\n",
    "    \n",
    "    # Filter columns if specified\n",
    "    if filtered_columns:\n",
    "        symbols_df = symbols_df[filtered_columns]\n",
    "    \n",
    "    return symbols_df\n",
    "\n",
    "'''tickers = fetch_exchange_symbols(\"AS\")\n",
    "print(tickers)'''"
   ]
  },
  {
   "cell_type": "markdown",
   "metadata": {},
   "source": [
    "# Get historical market data\n",
    "uses a function to get historical market data"
   ]
  },
  {
   "cell_type": "code",
   "execution_count": null,
   "metadata": {},
   "outputs": [
    {
     "name": "stdout",
     "output_type": "stream",
     "text": [
      "           date  adjusted_close\n",
      "0    2023-01-03           13.88\n",
      "1    2023-01-04           14.11\n",
      "2    2023-01-05           14.14\n",
      "3    2023-01-06           15.65\n",
      "4    2023-01-09           15.65\n",
      "..          ...             ...\n",
      "182  2023-09-25            8.41\n",
      "183  2023-09-26            8.25\n",
      "184  2023-09-27            8.23\n",
      "185  2023-09-28            8.25\n",
      "186  2023-09-29            8.00\n",
      "\n",
      "[187 rows x 2 columns]\n"
     ]
    }
   ],
   "source": [
    "def Fetch_historical_price(stock1, begin_date, end_date, period, api_token=API_Eodhd, columns=[\"adjusted_close\"]):\n",
    "    \"\"\"\n",
    "    Fetch stock data from the EODHD API and return it as a filtered Pandas DataFrame.\n",
    "\n",
    "    Parameters:\n",
    "        stock1 (str): The stock symbol (e.g., \"MCD.US\").\n",
    "        begin_date (str): The start date in \"YYYY-MM-DD\" format.\n",
    "        end_date (str): The end date in \"YYYY-MM-DD\" format.\n",
    "        period (str): The period (e.g., \"d\" for daily).\n",
    "        api_token (str): Your API token for authentication.\n",
    "        columns (list): List of columns to filter (e.g., ['open', 'close','adjusted_close',volume]).\n",
    "\n",
    "    Returns:\n",
    "        pd.DataFrame: The filtered stock data as a Pandas DataFrame.\n",
    "    \"\"\"\n",
    "    url = f'https://eodhd.com/api/eod/{stock1}?from={begin_date}&to={end_date}&period={period}&api_token={api_token}&fmt=json'\n",
    "    response = requests.get(url).json()\n",
    "    \n",
    "    # Convert JSON to Pandas DataFrame\n",
    "    pandas_df = pd.DataFrame(response)\n",
    "    \n",
    "    # Filter columns if specified\n",
    "    if columns:\n",
    "       filtered_columns = ['date'] + columns\n",
    "       pandas_df = pandas_df[filtered_columns]\n",
    "    \n",
    "    return pandas_df\n",
    "\n",
    "\n",
    "'''ZYXI = Fetch_historical_price(\"ZYXI.US\", \"2023-01-01\", \"2023-10-01\", \"d\" )\n",
    "print(ZYXI)'''"
   ]
  },
  {
   "cell_type": "markdown",
   "metadata": {},
   "source": [
    "# Getting financial news\n",
    "Creates a function to retrive financial news"
   ]
  },
  {
   "cell_type": "code",
   "execution_count": null,
   "metadata": {},
   "outputs": [
    {
     "name": "stdout",
     "output_type": "stream",
     "text": [
      "                        date  \\\n",
      "0  2023-03-24T13:00:11+00:00   \n",
      "1  2023-02-17T11:01:03+00:00   \n",
      "2  2023-02-14T14:24:02+00:00   \n",
      "3  2023-01-26T13:06:00+00:00   \n",
      "4  2023-01-18T11:00:49+00:00   \n",
      "5  2023-01-14T12:04:45+00:00   \n",
      "6  2023-01-01T23:08:43+00:00   \n",
      "\n",
      "                                               title  \\\n",
      "0  Apple (NASDAQ:AAPL) Seems To Use Debt Quite Se...   \n",
      "1        Is Apple (NASDAQ:AAPL) Using Too Much Debt?   \n",
      "2  This Semiconductor Stock Has Too Much Dependen...   \n",
      "3  If Cash Is King, These Nasdaq Stocks Reign Sup...   \n",
      "4  Apple (NASDAQ:AAPL) Could Easily Take On More ...   \n",
      "5            7 Stocks to Buy and Hold For a Lifetime   \n",
      "6  Lessons Learned From Visa and Mastercard in a ...   \n",
      "\n",
      "                                             content  \\\n",
      "0  Howard Marks put it nicely when he said that, ...   \n",
      "1  David Iben put it well when he said, 'Volatili...   \n",
      "2  In today's video, Jose Najarro, Nick Rossolill...   \n",
      "3  Because of that, companies that generate lots ...   \n",
      "4  Howard Marks put it nicely when he said that, ...   \n",
      "5  I always trust the idea of buying and holding ...   \n",
      "6  How Visa and Mastercard fared in a year domina...   \n",
      "\n",
      "                                                link  \\\n",
      "0  https://finance.yahoo.com/news/apple-nasdaq-aa...   \n",
      "1  https://finance.yahoo.com/news/apple-nasdaq-aa...   \n",
      "2  https://finance.yahoo.com/m/0343376c-2f5b-3a27...   \n",
      "3  https://finance.yahoo.com/m/69541834-9082-3301...   \n",
      "4  https://finance.yahoo.com/news/apple-nasdaq-aa...   \n",
      "5  https://finance.yahoo.com/news/7-stocks-buy-ho...   \n",
      "6  https://finance.yahoo.com/m/4b9f894a-9854-3caf...   \n",
      "\n",
      "                                             symbols  \\\n",
      "0    [AAPL.MX, AAPL.US, AAPL34.SA, APC.F, APC.XETRA]   \n",
      "1    [AAPL.MX, AAPL.US, AAPL34.SA, APC.F, APC.XETRA]   \n",
      "2  [AAPL.MX, AAPL.US, AAPL34.SA, APC.F, APC.XETRA...   \n",
      "3  [AAPL.MX, AAPL.US, AAPL34.SA, ABEA.F, ABEA.XET...   \n",
      "4    [AAPL.MX, AAPL.US, AAPL34.SA, APC.F, APC.XETRA]   \n",
      "5  [AAPL.US, CHV.F, CHV.XETRA, COST.MX, COST.US, ...   \n",
      "6  [AAPL.MX, AAPL.US, AAPL34.SA, APC.F, APC.XETRA...   \n",
      "\n",
      "                                                tags  \\\n",
      "0  [APPLE INC, BALANCE SHEET, DEBT LEVELS, DEBT T...   \n",
      "1  [APPLE INC, BALANCE SHEET, DEBT LEVELS, DEBT T...   \n",
      "2  [APPLE, BALANCE SHEET, JOSE NAJARRO, NICK ROSS...   \n",
      "3  [BALANCE SHEET, BALANCE SHEETS, CASH FLOW, CAS...   \n",
      "4  [APPLE INC, BALANCE SHEET, DEBT LEVELS, EBIT, ...   \n",
      "5  [BALANCE SHEET, CAPITAL GAINS, CASH FLOWS, CHE...   \n",
      "6  [BALANCE SHEET, CHRIS HILL, JASON MOSER, MASTE...   \n",
      "\n",
      "                                           sentiment  \n",
      "0  {'polarity': 0.993, 'neg': 0.109, 'neu': 0.744...  \n",
      "1  {'polarity': 0.997, 'neg': 0.117, 'neu': 0.711...  \n",
      "2  {'polarity': -0.44, 'neg': 0.108, 'neu': 0.851...  \n",
      "3  {'polarity': 0.511, 'neg': 0, 'neu': 0.936, 'p...  \n",
      "4  {'polarity': 0.983, 'neg': 0.115, 'neu': 0.745...  \n",
      "5  {'polarity': 1, 'neg': 0.017, 'neu': 0.837, 'p...  \n",
      "6  {'polarity': 0.7, 'neg': 0, 'neu': 0.876, 'pos...  \n"
     ]
    }
   ],
   "source": [
    "def fetch_news_data(stock, tag ,begin_date, end_date, offset =0 , api_token =API_Eodhd):\n",
    "    \"\"\"\n",
    "    Fetch news data for a given stock and return it as a Pandas DataFrame.\n",
    "\n",
    "    Parameters:\n",
    "        stock (str): The stock symbol (e.g., \"AAPL.US\").\n",
    "        begin_date (str): The start date in \"YYYY-MM-DD\" format.\n",
    "        end_date (str): The end date in \"YYYY-MM-DD\" format.\n",
    "        tag (str): The tag to filter news (e.g., \"balance sheet\"). List of tags : 'balance sheet', 'capital employed', 'class action', 'company announcement', 'consensus eps estimate', 'consensus estimate', 'credit rating', 'discounted cash flow', 'dividend payments', 'earnings estimate', 'earnings growth', 'earnings per share', 'earnings release', 'earnings report', 'earnings results', 'earnings surprise', 'estimate revisions', 'european regulatory news', 'financial results', 'fourth quarter', 'free cash flow', 'future cash flows', 'growth rate', 'initial public offering', 'insider ownership', 'insider transactions', 'institutional investors', 'institutional ownership', 'intrinsic value', 'market research reports', 'net income', 'operating income', 'present value', 'press releases', 'price target', 'quarterly earnings', 'quarterly results', 'ratings', 'research analysis and reports', 'return on equity', 'revenue estimates', 'revenue growth', 'roce', 'roe', 'share price', 'shareholder rights', 'shareholder', 'shares outstanding', 'split', 'strong buy', 'total revenue', 'zacks investment research', 'zacks rank'\n",
    "        offset (int): The offset for pagination.\n",
    "        api_token (str): Your API token for authentication.\n",
    "\n",
    "    Returns:\n",
    "        pd.DataFrame: The news data as a Pandas DataFrame.\n",
    "    \"\"\"\n",
    "    url = f'https://eodhd.com/api/news?s={stock}&t={tag}&offset={offset}&limit=10&api_token={api_token}&from={begin_date}&to={end_date}&fmt=json'\n",
    "    response = requests.get(url).json()\n",
    "    \n",
    "    # Convert JSON response to Pandas DataFrame\n",
    "    news_df = pd.DataFrame(response)\n",
    "    \n",
    "    return news_df\n",
    "\n",
    "'''\n",
    "# Example usage\n",
    "stock = \"AAPL.US\"\n",
    "begin_date = \"2023-01-01\"\n",
    "end_date = \"2023-10-01\"\n",
    "tag = \"balance sheet\"\n",
    "offset = 0\n",
    "\n",
    "news_df = fetch_news_data(stock, tag ,begin_date, end_date)'''"
   ]
  },
  {
   "cell_type": "markdown",
   "metadata": {},
   "source": [
    "# Getting fundamental data\n",
    "Creating a function retrive fundamental data"
   ]
  },
  {
   "cell_type": "code",
   "execution_count": null,
   "metadata": {},
   "outputs": [
    {
     "name": "stdout",
     "output_type": "stream",
     "text": [
      "  General.Code  General.Type General.Name General.Exchange  \\\n",
      "0         AAPL  Common Stock    Apple Inc           NASDAQ   \n",
      "\n",
      "  General.CurrencyCode General.CurrencyName General.CurrencySymbol  \\\n",
      "0                  USD            US Dollar                      $   \n",
      "\n",
      "  General.CountryName General.CountryISO General.OpenFigi  ...  \\\n",
      "0                 USA                 US     BBG000B9XRY4  ...   \n",
      "\n",
      "  Financials.Income_Statement.yearly.1985-09-30.otherItems  \\\n",
      "0                                               None         \n",
      "\n",
      "  Financials.Income_Statement.yearly.1985-09-30.incomeTaxExpense  \\\n",
      "0                                        58800000.00               \n",
      "\n",
      "  Financials.Income_Statement.yearly.1985-09-30.totalRevenue  \\\n",
      "0                                      1918300000.00           \n",
      "\n",
      "  Financials.Income_Statement.yearly.1985-09-30.totalOperatingExpenses  \\\n",
      "0                                       695000000.00                     \n",
      "\n",
      "  Financials.Income_Statement.yearly.1985-09-30.costOfRevenue  \\\n",
      "0                                      1076000000.00            \n",
      "\n",
      "  Financials.Income_Statement.yearly.1985-09-30.totalOtherIncomeExpenseNet  \\\n",
      "0                                       -27300000.00                         \n",
      "\n",
      "  Financials.Income_Statement.yearly.1985-09-30.discontinuedOperations  \\\n",
      "0                                               None                     \n",
      "\n",
      "  Financials.Income_Statement.yearly.1985-09-30.netIncomeFromContinuingOps  \\\n",
      "0                                               None                         \n",
      "\n",
      "  Financials.Income_Statement.yearly.1985-09-30.netIncomeApplicableToCommonShares  \\\n",
      "0                                               None                                \n",
      "\n",
      "  Financials.Income_Statement.yearly.1985-09-30.preferredStockAndOtherAdjustments  \n",
      "0                                               None                               \n",
      "\n",
      "[1 rows x 28020 columns]\n"
     ]
    }
   ],
   "source": [
    "def fetch_fundamentals(stock, api_token=API_Eodhd):\n",
    "    \"\"\"\n",
    "    Fetch fundamental data for a given stock and return it as a Pandas DataFrame.\n",
    "\n",
    "    Parameters:\n",
    "        stock (str): The stock symbol (e.g., \"AAPL.US\").\n",
    "        api_token (str): Your API token for authentication.\n",
    "\n",
    "    Returns:\n",
    "        pd.DataFrame: The fundamental data as a Pandas DataFrame.\n",
    "    \"\"\"\n",
    "    url = f'https://eodhd.com/api/fundamentals/{stock}?api_token={api_token}&fmt=json'\n",
    "    response = requests.get(url).json()\n",
    "    \n",
    "    # Flatten the JSON response and convert it to a Pandas DataFrame\n",
    "    fundamentals_df = pd.json_normalize(response)\n",
    "    \n",
    "    return fundamentals_df\n",
    "\n",
    "'''# Example usage\n",
    "api_token = API_Eodhd  # Replace with your actual API token\n",
    "stock = \"AAPL.US\"\n",
    "\n",
    "fundamentals_df = fetch_fundamentals(stock, api_token)\n",
    "print(fundamentals_df)'''"
   ]
  },
  {
   "cell_type": "markdown",
   "metadata": {},
   "source": [
    "# Getting macro economic data\n",
    "Creating a function retrive macroeconomic data"
   ]
  },
  {
   "cell_type": "code",
   "execution_count": null,
   "metadata": {},
   "outputs": [
    {
     "name": "stdout",
     "output_type": "stream",
     "text": [
      "   CountryCode    CountryName                              Indicator  \\\n",
      "0          USA  United States  Inflation, consumer prices (annual %)   \n",
      "1          USA  United States  Inflation, consumer prices (annual %)   \n",
      "2          USA  United States  Inflation, consumer prices (annual %)   \n",
      "3          USA  United States  Inflation, consumer prices (annual %)   \n",
      "4          USA  United States  Inflation, consumer prices (annual %)   \n",
      "..         ...            ...                                    ...   \n",
      "59         USA  United States  Inflation, consumer prices (annual %)   \n",
      "60         USA  United States  Inflation, consumer prices (annual %)   \n",
      "61         USA  United States  Inflation, consumer prices (annual %)   \n",
      "62         USA  United States  Inflation, consumer prices (annual %)   \n",
      "63         USA  United States  Inflation, consumer prices (annual %)   \n",
      "\n",
      "          Date  Period   Value  \n",
      "0   2023-12-31  Annual  4.1163  \n",
      "1   2022-12-31  Annual  8.0028  \n",
      "2   2021-12-31  Annual  4.6979  \n",
      "3   2020-12-31  Annual  1.2336  \n",
      "4   2019-12-31  Annual  1.8122  \n",
      "..         ...     ...     ...  \n",
      "59  1964-12-31  Annual  1.2789  \n",
      "60  1963-12-31  Annual  1.2397  \n",
      "61  1962-12-31  Annual  1.1988  \n",
      "62  1961-12-31  Annual  1.0707  \n",
      "63  1960-12-31  Annual  1.4580  \n",
      "\n",
      "[64 rows x 6 columns]\n"
     ]
    }
   ],
   "source": [
    "def fetch_macro_indicator(country, indicator, api_token=API_Eodhd):\n",
    "    \"\"\"\n",
    "    Fetch macroeconomic indicator data for a given country and return it as a Pandas DataFrame.\n",
    "\n",
    "    Parameters:\n",
    "        country (str): The country code (e.g., \"USA\").\n",
    "        indicator (str): The macroeconomic indicator (e.g., \"inflation_consumer_prices_annual\"). List of indicators: https://eodhd.com/financial-apis/macroeconomics-data-and-macro-indicators-api\n",
    "        api_token (str): Your API token for authentication.\n",
    "\n",
    "    Returns:\n",
    "        pd.DataFrame: The macroeconomic indicator data as a Pandas DataFrame.\n",
    "    \"\"\"\n",
    "    url = f'https://eodhd.com/api/macro-indicator/{country}?indicator={indicator}&api_token={api_token}&fmt=json'\n",
    "    response = requests.get(url).json()\n",
    "    \n",
    "    # Convert JSON response to Pandas DataFrame\n",
    "    macro_df = pd.DataFrame(response)\n",
    "    \n",
    "    return macro_df\n",
    "\n",
    "'''# Example usage\n",
    "country = \"USA\"\n",
    "indicator = \"inflation_consumer_prices_annual\"\n",
    "macro_df = fetch_macro_indicator(country, indicator)\n",
    "print(macro_df)'''\n"
   ]
  },
  {
   "cell_type": "markdown",
   "metadata": {},
   "source": [
    "# Getting intraday stock data\n",
    "Creating a function retrive stock data"
   ]
  },
  {
   "cell_type": "code",
   "execution_count": null,
   "metadata": {},
   "outputs": [
    {
     "name": "stdout",
     "output_type": "stream",
     "text": [
      "    timestamp  gmtoffset            datetime        open        high  \\\n",
      "0  1733236200          0 2024-12-03 14:30:00  239.192398  239.940002   \n",
      "1  1733236500          0 2024-12-03 14:35:00  239.550003  239.668106   \n",
      "2  1733236800          0 2024-12-03 14:40:00  239.389999  239.710006   \n",
      "3  1733237100          0 2024-12-03 14:45:00  239.610000  240.639801   \n",
      "4  1733237400          0 2024-12-03 14:50:00  240.619995  240.729995   \n",
      "\n",
      "          low       close     volume  \n",
      "0  238.900299  239.565002  2496034.0  \n",
      "1  238.990005  239.369995   532222.0  \n",
      "2  239.110000  239.615005   414728.0  \n",
      "3  239.589996  240.589996   868554.0  \n",
      "4  240.270004  240.695007   571623.0  \n"
     ]
    }
   ],
   "source": [
    "def fetch_intraday_data(stock, api_token= API_Eodhd):\n",
    "    \"\"\"\n",
    "    Fetch intraday data for a given stock from the EODHD API and convert it to a Pandas DataFrame.\n",
    "\n",
    "    Parameters:\n",
    "        stock (str): The stock symbol (e.g., \"AAPL.US\").\n",
    "        api_token (str): Your API token for authentication.\n",
    "        interval (str): The interval for intraday data (e.g., \"1m\", \"5m\", \"15m\", \"1h\"). Default is \"1m\".\n",
    "\n",
    "    Returns:\n",
    "        pd.DataFrame: A DataFrame containing the intraday data.\n",
    "    \"\"\"\n",
    "    url = f'https://eodhd.com/api/intraday/{stock}?api_token={api_token}&fmt=json'\n",
    "    response = requests.get(url)\n",
    "    \n",
    "    # Parse the JSON response\n",
    "    data = response.json()\n",
    "    \n",
    "    # Convert JSON to Pandas DataFrame\n",
    "    df = pd.DataFrame(data)\n",
    "    \n",
    "    # Ensure the 'datetime' column is in datetime format\n",
    "    if 'datetime' in df.columns:\n",
    "        df['datetime'] = pd.to_datetime(df['datetime'])\n",
    "    \n",
    "    return df\n",
    "\n",
    "'''# Example usage\n",
    "stock = \"AAPL.US\"\n",
    "\n",
    "intraday_data = fetch_intraday_data(stock)\n",
    "print(intraday_data.head())'''"
   ]
  },
  {
   "cell_type": "markdown",
   "metadata": {},
   "source": [
    "# Getting Dividend yield & Dividend Share\n",
    "Creating a function to retrive dividend yield data and dividend share"
   ]
  },
  {
   "cell_type": "code",
   "execution_count": 37,
   "metadata": {},
   "outputs": [
    {
     "name": "stdout",
     "output_type": "stream",
     "text": [
      "    Ticker  Dividendshare\n",
      "0  INGA.AS           1.06\n",
      "1  ASML.AS           6.40\n"
     ]
    }
   ],
   "source": [
    "def Fetch_dividend_yield(tickers_df, exchange):\n",
    "    \"\"\"\n",
    "    Fetch dividend yields for all stocks in the tickers_df and combine them into a single DataFrame.\n",
    "\n",
    "    Parameters:\n",
    "        tickers_df (list or pd.Series): List of stock tickers (e.g., [\"INGA\", \"ASML\"]).\n",
    "        exchange (str): Exchange code (e.g., \"AS\").\n",
    "\n",
    "    Returns:\n",
    "        pd.DataFrame: A DataFrame with two columns: 'Ticker' and 'DividendYield(%)'.\n",
    "    \"\"\"\n",
    "    combined_data = []  # Initialize an empty list to store data\n",
    "    full_tickers = [f\"{ticker}.{exchange}\" for ticker in tickers_df]\n",
    "\n",
    "    for stock in full_tickers:\n",
    "        try:\n",
    "            # Fetch the dividend yield for the current stock\n",
    "            url = f'https://eodhd.com/api/fundamentals/{stock}?api_token={API_Eodhd}&filter=Highlights::DividendYield&fmt=json'\n",
    "            dividend_yield = requests.get(url).json()\n",
    "\n",
    "                   \n",
    "            # Append the stock and dividend yield to the list\n",
    "            combined_data.append({\"Ticker\": stock, \"DividendYield(%)\": dividend_yield*100})\n",
    "        except Exception as e:\n",
    "            print(f\"Error fetching data for {stock}: {e}\")\n",
    "\n",
    "    # Convert the combined data into a DataFrame\n",
    "    combined_df = pd.DataFrame(combined_data)\n",
    "\n",
    "    # Drop rows with missing dividend yield values\n",
    "    combined_df = combined_df.dropna(subset=[\"DividendYield(%)\"])\n",
    "\n",
    "    return combined_df\n",
    "\n",
    "\n",
    "def Fetch_dividend_share(tickers_df, exchange):\n",
    "    \"\"\"\n",
    "    Fetch dividend share for all stocks in the tickers_df and combine them into a single DataFrame.\n",
    "\n",
    "    Parameters:\n",
    "        tickers_df (list or pd.Series): List of stock tickers (e.g., [\"INGA\", \"ASML\"]).\n",
    "        exchange (str): Exchange code (e.g., \"AS\").\n",
    "\n",
    "    Returns:\n",
    "        pd.DataFrame: A DataFrame with two columns: 'Ticker' and 'DividendYield(%)'.\n",
    "    \"\"\"\n",
    "    combined_data = []  # Initialize an empty list to store data\n",
    "    full_tickers = [f\"{ticker}.{exchange}\" for ticker in tickers_df]\n",
    "\n",
    "    for stock in full_tickers:\n",
    "        try:\n",
    "            # Fetch the dividend share for the current stock\n",
    "            url = f'https://eodhd.com/api/fundamentals/{stock}?api_token={API_Eodhd}&filter=Highlights::DividendShare&fmt=json'\n",
    "            dividend_share = requests.get(url).json()\n",
    "\n",
    "                   \n",
    "            # Append the stock and dividend yield to the list\n",
    "            combined_data.append({\"Ticker\": stock, \"Dividendshare\": dividend_share})\n",
    "        except Exception as e:\n",
    "            print(f\"Error fetching data for {stock}: {e}\")\n",
    "\n",
    "    # Convert the combined data into a DataFrame\n",
    "    combined_df = pd.DataFrame(combined_data)\n",
    "\n",
    "    # Drop rows with missing dividend yield values\n",
    "    combined_df = combined_df.dropna(subset=[\"Dividendshare\"])\n",
    "\n",
    "    return combined_df\n",
    "\n",
    "\n",
    "# Example usage\n",
    "DY12 = Fetch_dividend_share([\"INGA\", \"ASML\"], \"AS\")\n",
    "print(DY12)"
   ]
  },
  {
   "cell_type": "markdown",
   "metadata": {},
   "source": [
    "# Creating a function to fetch live data\n",
    "Creating a function to fetch live data"
   ]
  },
  {
   "cell_type": "code",
   "execution_count": null,
   "metadata": {},
   "outputs": [
    {
     "name": "stdout",
     "output_type": "stream",
     "text": [
      "timestamp             1733409000\n",
      "gmtoffset                      0\n",
      "datetime     2024-12-05 14:30:00\n",
      "open                  244.050003\n",
      "high                  244.539993\n",
      "low                   243.570007\n",
      "close                 243.630096\n",
      "volume                 2625187.0\n",
      "Name: 0, dtype: object\n"
     ]
    }
   ],
   "source": [
    "def fetch_intraday_data(stock, api_token= API_Eodhd):\n",
    "    \"\"\"\n",
    "    Fetch intraday data for a given stock from the EODHD API and convert it to a Pandas DataFrame.\n",
    "\n",
    "    Parameters:\n",
    "        stock (str): The stock symbol (e.g., \"AAPL.US\").\n",
    "        api_token (str): Your API token for authentication.\n",
    "        interval (str): The interval for intraday data (e.g., \"1m\", \"5m\", \"15m\", \"1h\"). Default is \"1m\".\n",
    "\n",
    "    Returns:\n",
    "        pd.DataFrame: A DataFrame containing the intraday data.\n",
    "    \"\"\"\n",
    "    url = f'https://eodhd.com/api/intraday/{stock}?api_token={api_token}&fmt=json'\n",
    "    response = requests.get(url)\n",
    "    \n",
    "    # Parse the JSON response\n",
    "    data = response.json()\n",
    "    \n",
    "    # Convert JSON to Pandas DataFrame\n",
    "    df = pd.DataFrame(data)\n",
    "    \n",
    "    # Ensure the 'datetime' column is in datetime format\n",
    "    if 'datetime' in df.columns:\n",
    "        df['datetime'] = pd.to_datetime(df['datetime'])\n",
    "    \n",
    "    return df\n",
    "\n",
    "# Example usage\n",
    "stock = \"AAPL.US\"\n",
    "intraday_data = fetch_intraday_data(stock)\n",
    "print(intraday_data.iloc[0])"
   ]
  }
 ],
 "metadata": {
  "kernelspec": {
   "display_name": "Python 3",
   "language": "python",
   "name": "python3"
  },
  "language_info": {
   "codemirror_mode": {
    "name": "ipython",
    "version": 3
   },
   "file_extension": ".py",
   "mimetype": "text/x-python",
   "name": "python",
   "nbconvert_exporter": "python",
   "pygments_lexer": "ipython3",
   "version": "3.13.2"
  }
 },
 "nbformat": 4,
 "nbformat_minor": 2
}
