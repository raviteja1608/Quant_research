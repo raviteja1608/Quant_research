{
 "cells": [
  {
   "cell_type": "markdown",
   "metadata": {},
   "source": [
    "# Import Required Libraries\n",
    "Import the necessary libraries, such as requests, for making API calls."
   ]
  },
  {
   "cell_type": "code",
   "execution_count": 46,
   "metadata": {},
   "outputs": [
    {
     "name": "stdout",
     "output_type": "stream",
     "text": [
      "Requirement already satisfied: transformers in c:\\users\\ravit\\appdata\\local\\programs\\python\\python313\\lib\\site-packages (4.50.3)\n",
      "Requirement already satisfied: filelock in c:\\users\\ravit\\appdata\\local\\programs\\python\\python313\\lib\\site-packages (from transformers) (3.18.0)\n",
      "Requirement already satisfied: huggingface-hub<1.0,>=0.26.0 in c:\\users\\ravit\\appdata\\local\\programs\\python\\python313\\lib\\site-packages (from transformers) (0.30.1)\n",
      "Requirement already satisfied: numpy>=1.17 in c:\\users\\ravit\\appdata\\local\\programs\\python\\python313\\lib\\site-packages (from transformers) (2.1.3)\n",
      "Requirement already satisfied: packaging>=20.0 in c:\\users\\ravit\\appdata\\local\\programs\\python\\python313\\lib\\site-packages (from transformers) (24.2)\n",
      "Requirement already satisfied: pyyaml>=5.1 in c:\\users\\ravit\\appdata\\local\\programs\\python\\python313\\lib\\site-packages (from transformers) (6.0.2)\n",
      "Requirement already satisfied: regex!=2019.12.17 in c:\\users\\ravit\\appdata\\local\\programs\\python\\python313\\lib\\site-packages (from transformers) (2024.11.6)\n",
      "Requirement already satisfied: requests in c:\\users\\ravit\\appdata\\local\\programs\\python\\python313\\lib\\site-packages (from transformers) (2.32.3)\n",
      "Requirement already satisfied: tokenizers<0.22,>=0.21 in c:\\users\\ravit\\appdata\\local\\programs\\python\\python313\\lib\\site-packages (from transformers) (0.21.1)\n",
      "Requirement already satisfied: safetensors>=0.4.3 in c:\\users\\ravit\\appdata\\local\\programs\\python\\python313\\lib\\site-packages (from transformers) (0.5.3)\n",
      "Requirement already satisfied: tqdm>=4.27 in c:\\users\\ravit\\appdata\\local\\programs\\python\\python313\\lib\\site-packages (from transformers) (4.67.1)\n",
      "Requirement already satisfied: fsspec>=2023.5.0 in c:\\users\\ravit\\appdata\\local\\programs\\python\\python313\\lib\\site-packages (from huggingface-hub<1.0,>=0.26.0->transformers) (2025.3.2)\n",
      "Requirement already satisfied: typing-extensions>=3.7.4.3 in c:\\users\\ravit\\appdata\\local\\programs\\python\\python313\\lib\\site-packages (from huggingface-hub<1.0,>=0.26.0->transformers) (4.13.0)\n",
      "Requirement already satisfied: colorama in c:\\users\\ravit\\appdata\\local\\programs\\python\\python313\\lib\\site-packages (from tqdm>=4.27->transformers) (0.4.6)\n",
      "Requirement already satisfied: charset-normalizer<4,>=2 in c:\\users\\ravit\\appdata\\local\\programs\\python\\python313\\lib\\site-packages (from requests->transformers) (3.4.1)\n",
      "Requirement already satisfied: idna<4,>=2.5 in c:\\users\\ravit\\appdata\\local\\programs\\python\\python313\\lib\\site-packages (from requests->transformers) (3.10)\n",
      "Requirement already satisfied: urllib3<3,>=1.21.1 in c:\\users\\ravit\\appdata\\local\\programs\\python\\python313\\lib\\site-packages (from requests->transformers) (2.3.0)\n",
      "Requirement already satisfied: certifi>=2017.4.17 in c:\\users\\ravit\\appdata\\local\\programs\\python\\python313\\lib\\site-packages (from requests->transformers) (2025.1.31)\n",
      "Note: you may need to restart the kernel to use updated packages.\n"
     ]
    },
    {
     "name": "stderr",
     "output_type": "stream",
     "text": [
      "\n",
      "[notice] A new release of pip is available: 24.3.1 -> 25.1.1\n",
      "[notice] To update, run: python.exe -m pip install --upgrade pip\n"
     ]
    },
    {
     "name": "stdout",
     "output_type": "stream",
     "text": [
      "Requirement already satisfied: torch in c:\\users\\ravit\\appdata\\local\\programs\\python\\python313\\lib\\site-packages (2.6.0)\n",
      "Requirement already satisfied: filelock in c:\\users\\ravit\\appdata\\local\\programs\\python\\python313\\lib\\site-packages (from torch) (3.18.0)\n",
      "Requirement already satisfied: typing-extensions>=4.10.0 in c:\\users\\ravit\\appdata\\local\\programs\\python\\python313\\lib\\site-packages (from torch) (4.13.0)\n",
      "Requirement already satisfied: networkx in c:\\users\\ravit\\appdata\\local\\programs\\python\\python313\\lib\\site-packages (from torch) (3.4.2)\n",
      "Requirement already satisfied: jinja2 in c:\\users\\ravit\\appdata\\local\\programs\\python\\python313\\lib\\site-packages (from torch) (3.1.6)\n",
      "Requirement already satisfied: fsspec in c:\\users\\ravit\\appdata\\local\\programs\\python\\python313\\lib\\site-packages (from torch) (2025.3.2)\n",
      "Requirement already satisfied: setuptools in c:\\users\\ravit\\appdata\\local\\programs\\python\\python313\\lib\\site-packages (from torch) (78.1.0)\n",
      "Requirement already satisfied: sympy==1.13.1 in c:\\users\\ravit\\appdata\\local\\programs\\python\\python313\\lib\\site-packages (from torch) (1.13.1)\n",
      "Requirement already satisfied: mpmath<1.4,>=1.1.0 in c:\\users\\ravit\\appdata\\local\\programs\\python\\python313\\lib\\site-packages (from sympy==1.13.1->torch) (1.3.0)\n",
      "Requirement already satisfied: MarkupSafe>=2.0 in c:\\users\\ravit\\appdata\\local\\programs\\python\\python313\\lib\\site-packages (from jinja2->torch) (3.0.2)\n",
      "Note: you may need to restart the kernel to use updated packages.\n"
     ]
    },
    {
     "name": "stderr",
     "output_type": "stream",
     "text": [
      "\n",
      "[notice] A new release of pip is available: 24.3.1 -> 25.1.1\n",
      "[notice] To update, run: python.exe -m pip install --upgrade pip\n"
     ]
    }
   ],
   "source": [
    "# Import the necessary library for making API calls\n",
    "#%pip install requests\n",
    "#%pip install pandas\n",
    "#%pip install datetime\n",
    "#%pip install os\n",
    "#%pip install openpyxl\n",
    "#%pip install textblob\n",
    "%pip install transformers\n",
    "%pip install torch\n",
    "import requests\n",
    "import pandas as pd\n",
    "import datetime as dt\n",
    "import numpy as np\n",
    "import os\n",
    "from textblob import TextBlob"
   ]
  },
  {
   "cell_type": "markdown",
   "metadata": {},
   "source": [
    "# Define API Key\n",
    "Define the API key"
   ]
  },
  {
   "cell_type": "code",
   "execution_count": 2,
   "metadata": {},
   "outputs": [],
   "source": [
    "API_Eodhd = \"66c0aeb1357b15.87356825\""
   ]
  },
  {
   "cell_type": "markdown",
   "metadata": {},
   "source": [
    "# Get list of tickets under an exchange\n",
    "Define a function get list of tickers under an exchange"
   ]
  },
  {
   "cell_type": "code",
   "execution_count": 3,
   "metadata": {},
   "outputs": [
    {
     "data": {
      "text/plain": [
       "'tickers = fetch_exchange_symbols(\"AS\")\\nprint(tickers)'"
      ]
     },
     "execution_count": 3,
     "metadata": {},
     "output_type": "execute_result"
    }
   ],
   "source": [
    "def fetch_exchanges_list(api_token=API_Eodhd, filtered_columns=[\"Name\", \"Code\", \"Country\", \"Currency\"]):\n",
    "    \"\"\"\n",
    "    Fetch the list of exchanges from the EODHD API and return it as a filtered Pandas DataFrame.\n",
    "\n",
    "    Parameters:\n",
    "        api_token (str): Your API token for authentication.\n",
    "        filtered_columns (list): List of columns to include in the output DataFrame.\n",
    "\n",
    "    Returns:\n",
    "        pd.DataFrame: The exchange list as a Pandas DataFrame with selected columns.\n",
    "    \"\"\"\n",
    "    url = f'https://eodhd.com/api/exchanges-list/?api_token={api_token}&fmt=json'\n",
    "    response = requests.get(url).json()\n",
    "    \n",
    "    # Convert JSON to Pandas DataFrame\n",
    "    exchanges_df = pd.DataFrame(response)\n",
    "    \n",
    "    # Filter columns if specified\n",
    "    if filtered_columns:\n",
    "\n",
    "        exchanges_df = exchanges_df[filtered_columns]\n",
    "    \n",
    "    return exchanges_df\n",
    "\n",
    "def fetch_exchange_symbols(exchange_code, api_token=API_Eodhd, filtered_columns=None):\n",
    "    \"\"\"\n",
    "    Fetch the symbol list for a given exchange from the EODHD API and return it as a Pandas DataFrame.\n",
    "\n",
    "    Parameters:\n",
    "        exchange_code (str): The code of the exchange (e.g., \"US\").\n",
    "        api_token (str): Your API token for authentication.\n",
    "        filtered_columns (list): List of columns to include in the output DataFrame (optional).\n",
    "\n",
    "    Returns:\n",
    "        pd.DataFrame: The symbol list as a Pandas DataFrame with selected columns.\n",
    "    \"\"\"\n",
    "    url = f'https://eodhd.com/api/exchange-symbol-list/{exchange_code}?api_token={api_token}&fmt=json'\n",
    "    response = requests.get(url).json()\n",
    "    \n",
    "    # Convert JSON to Pandas DataFrame\n",
    "    symbols_df = pd.DataFrame(response)\n",
    "    \n",
    "    # Filter columns if specified\n",
    "    if filtered_columns:\n",
    "        symbols_df = symbols_df[filtered_columns]\n",
    "    \n",
    "    return symbols_df\n",
    "\n",
    "'''tickers = fetch_exchange_symbols(\"AS\")\n",
    "print(tickers)'''"
   ]
  },
  {
   "cell_type": "markdown",
   "metadata": {},
   "source": [
    "# Get historical market data\n",
    "uses a function to get historical market data"
   ]
  },
  {
   "cell_type": "code",
   "execution_count": 4,
   "metadata": {},
   "outputs": [
    {
     "data": {
      "text/plain": [
       "'ZYXI = Fetch_historical_price(\"ZYXI.US\", \"2023-01-01\", \"2023-10-01\", \"d\" )\\nprint(ZYXI)'"
      ]
     },
     "execution_count": 4,
     "metadata": {},
     "output_type": "execute_result"
    }
   ],
   "source": [
    "def Fetch_historical_price(stock, begin_date, end_date, period, api_token=API_Eodhd, columns=[\"adjusted_close\"]):\n",
    "    \"\"\"\n",
    "    Fetch stock data from the EODHD API and return it as a filtered Pandas DataFrame.\n",
    "\n",
    "    Parameters:\n",
    "        stock (str): The stock symbol (e.g., \"MCD.US\").\n",
    "        begin_date (str): The start date in \"YYYY-MM-DD\" format.\n",
    "        end_date (str): The end date in \"YYYY-MM-DD\" format.\n",
    "        period (str): The period (e.g., \"d\" for daily).\n",
    "        api_token (str): Your API token for authentication.\n",
    "        columns (list): List of columns to filter (e.g., ['open', 'close','adjusted_close',volume]).\n",
    "\n",
    "    Returns:\n",
    "        pd.DataFrame: The filtered stock data as a Pandas DataFrame.\n",
    "    \"\"\"\n",
    "    url = f'https://eodhd.com/api/eod/{stock}?from={begin_date}&to={end_date}&period={period}&api_token={api_token}&fmt=json'\n",
    "    response = requests.get(url).json()\n",
    "    \n",
    "    # Convert JSON to Pandas DataFrame\n",
    "    pandas_df = pd.DataFrame(response)\n",
    "    \n",
    "    # Filter columns if specified\n",
    "    if columns:\n",
    "       filtered_columns = ['date'] + columns\n",
    "       pandas_df = pandas_df[filtered_columns]\n",
    "    \n",
    "    return pandas_df\n",
    "\n",
    "# Example usage\n",
    "'''ZYXI = Fetch_historical_price(\"ZYXI.US\", \"2023-01-01\", \"2023-10-01\", \"d\" )\n",
    "print(ZYXI)'''"
   ]
  },
  {
   "cell_type": "markdown",
   "metadata": {},
   "source": [
    "# Get Daily returns\n",
    "uses a calculate the daily returns of the stock"
   ]
  },
  {
   "cell_type": "code",
   "execution_count": 5,
   "metadata": {},
   "outputs": [
    {
     "data": {
      "text/plain": [
       "'daily_returns = calculate_daily_returns(\"ZYXI.US\", \"2023-01-01\", \"2023-10-01\", \"d\")\\nprint(daily_returns)'"
      ]
     },
     "execution_count": 5,
     "metadata": {},
     "output_type": "execute_result"
    }
   ],
   "source": [
    "def calculate_daily_returns(stock, begin_date, end_date, period, api_token=API_Eodhd):\n",
    "    \"\"\"\n",
    "    Calculate the daily returns of a stock using the Fetch_historical_price function.\n",
    "\n",
    "    Parameters:\n",
    "        stock (str): The stock symbol (e.g., \"ZYXI.US\").\n",
    "        begin_date (str): The start date in \"YYYY-MM-DD\" format.\n",
    "        end_date (str): The end date in \"YYYY-MM-DD\" format.\n",
    "        period (str): The period (e.g., \"d\" for daily).\n",
    "        api_token (str): Your API token for authentication.\n",
    "\n",
    "    Returns:\n",
    "        pd.DataFrame: A DataFrame containing the date and daily returns.\n",
    "    \"\"\"\n",
    "    # Fetch historical price data\n",
    "    historical_data = Fetch_historical_price(stock, begin_date, end_date, period, api_token, columns=[\"adjusted_close\"])\n",
    "    \n",
    "    # Calculate daily returns\n",
    "    historical_data['daily_return'] = historical_data['adjusted_close'].pct_change()\n",
    "    historical_data= historical_data.dropna()  # Drop the first row with NaN value\n",
    "    \n",
    "    return historical_data[['date', 'daily_return']]\n",
    "\n",
    "# Example usage\n",
    "'''daily_returns = calculate_daily_returns(\"ZYXI.US\", \"2023-01-01\", \"2023-10-01\", \"d\")\n",
    "print(daily_returns)'''\n",
    "\n"
   ]
  },
  {
   "cell_type": "markdown",
   "metadata": {},
   "source": [
    "# Getting financial news\n",
    "Creates a function to retrive financial news"
   ]
  },
  {
   "cell_type": "code",
   "execution_count": null,
   "metadata": {},
   "outputs": [
    {
     "ename": "NameError",
     "evalue": "name 'API_Eodhd' is not defined",
     "output_type": "error",
     "traceback": [
      "\u001b[31m---------------------------------------------------------------------------\u001b[39m",
      "\u001b[31mNameError\u001b[39m                                 Traceback (most recent call last)",
      "\u001b[36mCell\u001b[39m\u001b[36m \u001b[39m\u001b[32mIn[1]\u001b[39m\u001b[32m, line 1\u001b[39m\n\u001b[32m----> \u001b[39m\u001b[32m1\u001b[39m \u001b[38;5;28;01mdef\u001b[39;00m\u001b[38;5;250m \u001b[39m\u001b[34mfetch_news_data\u001b[39m(stock, tag ,begin_date, end_date, offset =\u001b[32m0\u001b[39m , api_token =\u001b[43mAPI_Eodhd\u001b[49m):\n\u001b[32m      2\u001b[39m \u001b[38;5;250m    \u001b[39m\u001b[33;03m\"\"\"\u001b[39;00m\n\u001b[32m      3\u001b[39m \u001b[33;03m    Fetch news data for a given stock and return it as a Pandas DataFrame.\u001b[39;00m\n\u001b[32m      4\u001b[39m \n\u001b[32m   (...)\u001b[39m\u001b[32m     14\u001b[39m \u001b[33;03m        pd.DataFrame: The news data as a Pandas DataFrame.\u001b[39;00m\n\u001b[32m     15\u001b[39m \u001b[33;03m    \"\"\"\u001b[39;00m\n\u001b[32m     16\u001b[39m     url = \u001b[33mf\u001b[39m\u001b[33m'\u001b[39m\u001b[33mhttps://eodhd.com/api/news?s=\u001b[39m\u001b[38;5;132;01m{\u001b[39;00mstock\u001b[38;5;132;01m}\u001b[39;00m\u001b[33m&t=\u001b[39m\u001b[38;5;132;01m{\u001b[39;00mtag\u001b[38;5;132;01m}\u001b[39;00m\u001b[33m&offset=\u001b[39m\u001b[38;5;132;01m{\u001b[39;00moffset\u001b[38;5;132;01m}\u001b[39;00m\u001b[33m&limit=10&api_token=\u001b[39m\u001b[38;5;132;01m{\u001b[39;00mapi_token\u001b[38;5;132;01m}\u001b[39;00m\u001b[33m&from=\u001b[39m\u001b[38;5;132;01m{\u001b[39;00mbegin_date\u001b[38;5;132;01m}\u001b[39;00m\u001b[33m&to=\u001b[39m\u001b[38;5;132;01m{\u001b[39;00mend_date\u001b[38;5;132;01m}\u001b[39;00m\u001b[33m&fmt=json\u001b[39m\u001b[33m'\u001b[39m\n",
      "\u001b[31mNameError\u001b[39m: name 'API_Eodhd' is not defined"
     ]
    }
   ],
   "source": [
    "def fetch_news_data(stock, tag ,begin_date, end_date, offset =0 , api_token =API_Eodhd):\n",
    "    \"\"\"\n",
    "    Fetch news data for a given stock and return it as a Pandas DataFrame.\n",
    "\n",
    "    Parameters:\n",
    "        stock (str): The stock symbol (e.g., \"AAPL.US\").\n",
    "        begin_date (str): The start date in \"YYYY-MM-DD\" format.\n",
    "        end_date (str): The end date in \"YYYY-MM-DD\" format.\n",
    "        tag (str): The tag to filter news (e.g., \"balance sheet\"). List of tags : 'balance sheet', 'capital employed', 'class action', 'company announcement', 'consensus eps estimate', 'consensus estimate', 'credit rating', 'discounted cash flow', 'dividend payments', 'earnings estimate', 'earnings growth', 'earnings per share', 'earnings release', 'earnings report', 'earnings results', 'earnings surprise', 'estimate revisions', 'european regulatory news', 'financial results', 'fourth quarter', 'free cash flow', 'future cash flows', 'growth rate', 'initial public offering', 'insider ownership', 'insider transactions', 'institutional investors', 'institutional ownership', 'intrinsic value', 'market research reports', 'net income', 'operating income', 'present value', 'press releases', 'price target', 'quarterly earnings', 'quarterly results', 'ratings', 'research analysis and reports', 'return on equity', 'revenue estimates', 'revenue growth', 'roce', 'roe', 'share price', 'shareholder rights', 'shareholder', 'shares outstanding', 'split', 'strong buy', 'total revenue', 'zacks investment research', 'zacks rank'\n",
    "        offset (int): The offset for pagination.\n",
    "        api_token (str): Your API token for authentication.\n",
    "\n",
    "    Returns:\n",
    "        pd.DataFrame: The news data as a Pandas DataFrame.\n",
    "    \"\"\"\n",
    "    url = f'https://eodhd.com/api/news?s={stock}&t={tag}&offset={offset}&limit=10&api_token={api_token}&from={begin_date}&to={end_date}&fmt=json'\n",
    "    response = requests.get(url).json()\n",
    "    \n",
    "    # Convert JSON response to Pandas DataFrame\n",
    "    news_df = pd.DataFrame(response)\n",
    "    \n",
    "    return news_df\n",
    "\n",
    "def Fetch_news_data(stock, begin_date, end_date, offset =0 , api_token =API_Eodhd):\n",
    "    \"\"\"\n",
    "    Fetch news data for a given stock and return it as a Pandas DataFrame.\n",
    "\n",
    "    Parameters:\n",
    "        stock (str): The stock symbol (e.g., \"AAPL.US\").\n",
    "        begin_date (str): The start date in \"YYYY-MM-DD\" format.\n",
    "        end_date (str): The end date in \"YYYY-MM-DD\" format.\n",
    "        tag (str): The tag to filter news (e.g., \"balance sheet\"). List of tags : 'balance sheet', 'capital employed', 'class action', 'company announcement', 'consensus eps estimate', 'consensus estimate', 'credit rating', 'discounted cash flow', 'dividend payments', 'earnings estimate', 'earnings growth', 'earnings per share', 'earnings release', 'earnings report', 'earnings results', 'earnings surprise', 'estimate revisions', 'european regulatory news', 'financial results', 'fourth quarter', 'free cash flow', 'future cash flows', 'growth rate', 'initial public offering', 'insider ownership', 'insider transactions', 'institutional investors', 'institutional ownership', 'intrinsic value', 'market research reports', 'net income', 'operating income', 'present value', 'press releases', 'price target', 'quarterly earnings', 'quarterly results', 'ratings', 'research analysis and reports', 'return on equity', 'revenue estimates', 'revenue growth', 'roce', 'roe', 'share price', 'shareholder rights', 'shareholder', 'shares outstanding', 'split', 'strong buy', 'total revenue', 'zacks investment research', 'zacks rank'\n",
    "        offset (int): The offset for pagination.\n",
    "        api_token (str): Your API token for authentication.\n",
    "\n",
    "    Returns:\n",
    "        pd.DataFrame: The news data as a Pandas DataFrame.\n",
    "    \"\"\"\n",
    "    url = f'https://eodhd.com/api/news?s={stock}&offset={offset}&limit=1000&api_token={api_token}&from={begin_date}&to={end_date}&fmt=json'\n",
    "    response = requests.get(url).json()\n",
    "    \n",
    "    # Convert JSON response to Pandas DataFrame\n",
    "    news_df = pd.DataFrame(response)\n",
    "    \n",
    "    return news_df\n",
    "\n",
    "'''\n",
    "# Example usage\n",
    "stock = \"AAPL.US\"\n",
    "begin_date = \"2023-01-01\"\n",
    "end_date = \"2023-10-01\"\n",
    "tag = \"balance sheet\"\n",
    "offset = 0\n",
    "\n",
    "news_df = fetch_news_data(stock, tag ,begin_date, end_date)'''"
   ]
  },
  {
   "cell_type": "markdown",
   "metadata": {},
   "source": [
    "# Getting fundamental data\n",
    "Creating a function retrive fundamental data"
   ]
  },
  {
   "cell_type": "code",
   "execution_count": 7,
   "metadata": {},
   "outputs": [
    {
     "data": {
      "text/plain": [
       "'# Example usage\\napi_token = API_Eodhd  # Replace with your actual API token\\nstock = \"AAPL.US\"\\n\\nfundamentals_df = fetch_fundamentals(stock, api_token)\\nprint(fundamentals_df)'"
      ]
     },
     "execution_count": 7,
     "metadata": {},
     "output_type": "execute_result"
    }
   ],
   "source": [
    "def fetch_fundamentals(stock, api_token=API_Eodhd):\n",
    "    \"\"\"\n",
    "    Fetch fundamental data for a given stock and return it as a Pandas DataFrame.\n",
    "\n",
    "    Parameters:\n",
    "        stock (str): The stock symbol (e.g., \"AAPL.US\").\n",
    "        api_token (str): Your API token for authentication.\n",
    "\n",
    "    Returns:\n",
    "        pd.DataFrame: The fundamental data as a Pandas DataFrame.\n",
    "    \"\"\"\n",
    "    url = f'https://eodhd.com/api/fundamentals/{stock}?api_token={api_token}&fmt=json'\n",
    "    response = requests.get(url).json()\n",
    "    \n",
    "    # Flatten the JSON response and convert it to a Pandas DataFrame\n",
    "    fundamentals_df = pd.json_normalize(response)\n",
    "    \n",
    "    return fundamentals_df\n",
    "\n",
    "'''# Example usage\n",
    "api_token = API_Eodhd  # Replace with your actual API token\n",
    "stock = \"AAPL.US\"\n",
    "\n",
    "fundamentals_df = fetch_fundamentals(stock, api_token)\n",
    "print(fundamentals_df)'''"
   ]
  },
  {
   "cell_type": "markdown",
   "metadata": {},
   "source": [
    "# Getting macro economic data\n",
    "Creating a function retrive macroeconomic data"
   ]
  },
  {
   "cell_type": "code",
   "execution_count": 8,
   "metadata": {},
   "outputs": [
    {
     "data": {
      "text/plain": [
       "'# Example usage\\ncountry = \"USA\"\\nindicator = \"inflation_consumer_prices_annual\"\\nmacro_df = fetch_macro_indicator(country, indicator)\\nprint(macro_df)'"
      ]
     },
     "execution_count": 8,
     "metadata": {},
     "output_type": "execute_result"
    }
   ],
   "source": [
    "def fetch_macro_indicator(country, indicator, api_token=API_Eodhd):\n",
    "    \"\"\"\n",
    "    Fetch macroeconomic indicator data for a given country and return it as a Pandas DataFrame.\n",
    "\n",
    "    Parameters:\n",
    "        country (str): The country code (e.g., \"USA\").\n",
    "        indicator (str): The macroeconomic indicator (e.g., \"inflation_consumer_prices_annual\"). List of indicators: https://eodhd.com/financial-apis/macroeconomics-data-and-macro-indicators-api\n",
    "        api_token (str): Your API token for authentication.\n",
    "\n",
    "    Returns:\n",
    "        pd.DataFrame: The macroeconomic indicator data as a Pandas DataFrame.\n",
    "    \"\"\"\n",
    "    url = f'https://eodhd.com/api/macro-indicator/{country}?indicator={indicator}&api_token={api_token}&fmt=json'\n",
    "    response = requests.get(url).json()\n",
    "    \n",
    "    # Convert JSON response to Pandas DataFrame\n",
    "    macro_df = pd.DataFrame(response)\n",
    "    \n",
    "    return macro_df\n",
    "\n",
    "'''# Example usage\n",
    "country = \"USA\"\n",
    "indicator = \"inflation_consumer_prices_annual\"\n",
    "macro_df = fetch_macro_indicator(country, indicator)\n",
    "print(macro_df)'''\n"
   ]
  },
  {
   "cell_type": "markdown",
   "metadata": {},
   "source": [
    "# Getting intraday stock data\n",
    "Creating a function retrive stock data"
   ]
  },
  {
   "cell_type": "code",
   "execution_count": 9,
   "metadata": {},
   "outputs": [
    {
     "data": {
      "text/plain": [
       "'# Example usage\\nstock = \"AAPL.US\"\\n\\nintraday_data = fetch_intraday_data(stock)\\nprint(intraday_data.head())'"
      ]
     },
     "execution_count": 9,
     "metadata": {},
     "output_type": "execute_result"
    }
   ],
   "source": [
    "def fetch_intraday_data(stock, api_token= API_Eodhd):\n",
    "    \"\"\"\n",
    "    Fetch intraday data for a given stock from the EODHD API and convert it to a Pandas DataFrame.\n",
    "\n",
    "    Parameters:\n",
    "        stock (str): The stock symbol (e.g., \"AAPL.US\").\n",
    "        api_token (str): Your API token for authentication.\n",
    "        interval (str): The interval for intraday data (e.g., \"1m\", \"5m\", \"15m\", \"1h\"). Default is \"1m\".\n",
    "\n",
    "    Returns:\n",
    "        pd.DataFrame: A DataFrame containing the intraday data.\n",
    "    \"\"\"\n",
    "    url = f'https://eodhd.com/api/intraday/{stock}?api_token={api_token}&fmt=json'\n",
    "    response = requests.get(url)\n",
    "    \n",
    "    # Parse the JSON response\n",
    "    data = response.json()\n",
    "    \n",
    "    # Convert JSON to Pandas DataFrame\n",
    "    df = pd.DataFrame(data)\n",
    "    \n",
    "    # Ensure the 'datetime' column is in datetime format\n",
    "    if 'datetime' in df.columns:\n",
    "        df['datetime'] = pd.to_datetime(df['datetime'])\n",
    "    \n",
    "    return df\n",
    "\n",
    "'''# Example usage\n",
    "stock = \"AAPL.US\"\n",
    "\n",
    "intraday_data = fetch_intraday_data(stock)\n",
    "print(intraday_data.head())'''"
   ]
  },
  {
   "cell_type": "markdown",
   "metadata": {},
   "source": [
    "# Getting Dividend yield & Dividend Share\n",
    "Creating a function to retrive dividend yield data and dividend share"
   ]
  },
  {
   "cell_type": "code",
   "execution_count": 10,
   "metadata": {},
   "outputs": [
    {
     "data": {
      "text/plain": [
       "'# Example usage\\nDY12 = Fetch_dividend_share([\"INGA\", \"ASML\"], \"AS\")\\nprint(DY12)'"
      ]
     },
     "execution_count": 10,
     "metadata": {},
     "output_type": "execute_result"
    }
   ],
   "source": [
    "def Fetch_dividend_yield(tickers_df, exchange):\n",
    "    \"\"\"\n",
    "    Fetch dividend yields for all stocks in the tickers_df and combine them into a single DataFrame.\n",
    "\n",
    "    Parameters:\n",
    "        tickers_df (list or pd.Series): List of stock tickers (e.g., [\"INGA\", \"ASML\"]).\n",
    "        exchange (str): Exchange code (e.g., \"AS\").\n",
    "\n",
    "    Returns:\n",
    "        pd.DataFrame: A DataFrame with two columns: 'Ticker' and 'DividendYield(%)'.\n",
    "    \"\"\"\n",
    "    combined_data = []  # Initialize an empty list to store data\n",
    "    full_tickers = [f\"{ticker}.{exchange}\" for ticker in tickers_df]\n",
    "\n",
    "    for stock in full_tickers:\n",
    "        try:\n",
    "            # Fetch the dividend yield for the current stock\n",
    "            url = f'https://eodhd.com/api/fundamentals/{stock}?api_token={API_Eodhd}&filter=Highlights::DividendYield&fmt=json'\n",
    "            dividend_yield = requests.get(url).json()\n",
    "\n",
    "                   \n",
    "            # Append the stock and dividend yield to the list\n",
    "            combined_data.append({\"Ticker\": stock, \"DividendYield(%)\": dividend_yield*100})\n",
    "        except Exception as e:\n",
    "            print(f\"Error fetching data for {stock}: {e}\")\n",
    "\n",
    "    # Convert the combined data into a DataFrame\n",
    "    combined_df = pd.DataFrame(combined_data)\n",
    "\n",
    "    # Drop rows with missing dividend yield values\n",
    "    combined_df = combined_df.dropna(subset=[\"DividendYield(%)\"])\n",
    "\n",
    "    return combined_df\n",
    "\n",
    "\n",
    "def Fetch_dividend_share(tickers_df, exchange):\n",
    "    \"\"\"\n",
    "    Fetch dividend share for all stocks in the tickers_df and combine them into a single DataFrame.\n",
    "\n",
    "    Parameters:\n",
    "        tickers_df (list or pd.Series): List of stock tickers (e.g., [\"INGA\", \"ASML\"]).\n",
    "        exchange (str): Exchange code (e.g., \"AS\").\n",
    "\n",
    "    Returns:\n",
    "        pd.DataFrame: A DataFrame with two columns: 'Ticker' and 'DividendYield(%)'.\n",
    "    \"\"\"\n",
    "    combined_data = []  # Initialize an empty list to store data\n",
    "    full_tickers = [f\"{ticker}.{exchange}\" for ticker in tickers_df]\n",
    "\n",
    "    for stock in full_tickers:\n",
    "        try:\n",
    "            # Fetch the dividend share for the current stock\n",
    "            url = f'https://eodhd.com/api/fundamentals/{stock}?api_token={API_Eodhd}&filter=Highlights::DividendShare&fmt=json'\n",
    "            dividend_share = requests.get(url).json()\n",
    "\n",
    "                   \n",
    "            # Append the stock and dividend yield to the list\n",
    "            combined_data.append({\"Ticker\": stock, \"Dividendshare\": dividend_share})\n",
    "        except Exception as e:\n",
    "            print(f\"Error fetching data for {stock}: {e}\")\n",
    "\n",
    "    # Convert the combined data into a DataFrame\n",
    "    combined_df = pd.DataFrame(combined_data)\n",
    "\n",
    "    # Drop rows with missing dividend yield values\n",
    "    combined_df = combined_df.dropna(subset=[\"Dividendshare\"])\n",
    "\n",
    "    return combined_df\n",
    "\n",
    "\n",
    "'''# Example usage\n",
    "DY12 = Fetch_dividend_share([\"INGA\", \"ASML\"], \"AS\")\n",
    "print(DY12)'''"
   ]
  },
  {
   "cell_type": "markdown",
   "metadata": {},
   "source": [
    "# Creating a function to fetch live data\n",
    "Creating a function to fetch live data"
   ]
  },
  {
   "cell_type": "code",
   "execution_count": 11,
   "metadata": {},
   "outputs": [
    {
     "data": {
      "text/plain": [
       "'# Example usage\\nstock = \"AAPL.US\"\\nintraday_data = fetch_intraday_data(stock)\\nprint(intraday_data.iloc[0])'"
      ]
     },
     "execution_count": 11,
     "metadata": {},
     "output_type": "execute_result"
    }
   ],
   "source": [
    "def fetch_intraday_data(stock, api_token= API_Eodhd):\n",
    "    \"\"\"\n",
    "    Fetch intraday data for a given stock from the EODHD API and convert it to a Pandas DataFrame.\n",
    "\n",
    "    Parameters:\n",
    "        stock (str): The stock symbol (e.g., \"AAPL.US\").\n",
    "        api_token (str): Your API token for authentication.\n",
    "        interval (str): The interval for intraday data (e.g., \"1m\", \"5m\", \"15m\", \"1h\"). Default is \"1m\".\n",
    "\n",
    "    Returns:\n",
    "        pd.DataFrame: A DataFrame containing the intraday data.\n",
    "    \"\"\"\n",
    "    url = f'https://eodhd.com/api/intraday/{stock}?api_token={api_token}&fmt=json'\n",
    "    response = requests.get(url)\n",
    "    \n",
    "    # Parse the JSON response\n",
    "    data = response.json()\n",
    "    \n",
    "    # Convert JSON to Pandas DataFrame\n",
    "    df = pd.DataFrame(data)\n",
    "    \n",
    "    # Ensure the 'datetime' column is in datetime format\n",
    "    if 'datetime' in df.columns:\n",
    "        df['datetime'] = pd.to_datetime(df['datetime'])\n",
    "    \n",
    "    return df\n",
    "\n",
    "'''# Example usage\n",
    "stock = \"AAPL.US\"\n",
    "intraday_data = fetch_intraday_data(stock)\n",
    "print(intraday_data.iloc[0])'''"
   ]
  },
  {
   "cell_type": "markdown",
   "metadata": {},
   "source": [
    "# Creating price momentum function\n",
    "Divides the latest stock price with the previous price specified (no. of days)\n"
   ]
  },
  {
   "cell_type": "code",
   "execution_count": null,
   "metadata": {},
   "outputs": [
    {
     "name": "stdout",
     "output_type": "stream",
     "text": [
      "-0.04375499780636311\n"
     ]
    }
   ],
   "source": [
    "def fetch_price_momentum(stock, days, api_token=API_Eodhd):\n",
    "    \"\"\"\n",
    "    Calculate the log return of a stock by dividing the current price with the price \"days\" ago.\n",
    "\n",
    "    Parameters:\n",
    "        stock (str): The stock symbol (e.g., \"AAPL.US\").\n",
    "        days (int): The number of days ago to compare the price.\n",
    "        api_token (str): Your API token for authentication.\n",
    "\n",
    "    Returns:\n",
    "        float: The log return of the stock, or None if an error occurs.\n",
    "    \"\"\"\n",
    "    try:\n",
    "        # Define the date range for fetching historical data (1 year of data)\n",
    "        end_date = dt.datetime.now()\n",
    "        start_date = end_date - dt.timedelta(days=365)  # Fetch 1 year of data\n",
    "\n",
    "        # Fetch historical price data\n",
    "        historical_data = Fetch_historical_price(\n",
    "            stock,\n",
    "            start_date.strftime(\"%Y-%m-%d\"),\n",
    "            end_date.strftime(\"%Y-%m-%d\"),\n",
    "            \"d\",\n",
    "            api_token,\n",
    "            columns=[\"adjusted_close\"]\n",
    "        )\n",
    "\n",
    "        # Ensure the data is sorted by date\n",
    "        historical_data = historical_data.sort_values(by=\"date\")\n",
    "\n",
    "        # Validate that there is enough data to calculate momentum\n",
    "        if len(historical_data) < days + 1:\n",
    "            return None\n",
    "\n",
    "        # Get the current price and the price \"days\" ago\n",
    "        current_price = historical_data[\"adjusted_close\"].iloc[-1]\n",
    "        past_price = historical_data[\"adjusted_close\"].iloc[-(days + 1)]\n",
    "\n",
    "        # Calculate the log return\n",
    "        log_return = np.log(current_price / past_price)\n",
    "        return log_return\n",
    "\n",
    "    except Exception as e:\n",
    "        return None\n",
    "\n",
    "'''# Example usage\n",
    "stock = \"AAPL.US\"\n",
    "days = 25\n",
    "log_return = fetch_price_momentum(stock, days)\n",
    "print(log_return)'''"
   ]
  }
 ],
 "metadata": {
  "kernelspec": {
   "display_name": "Python 3",
   "language": "python",
   "name": "python3"
  },
  "language_info": {
   "codemirror_mode": {
    "name": "ipython",
    "version": 3
   },
   "file_extension": ".py",
   "mimetype": "text/x-python",
   "name": "python",
   "nbconvert_exporter": "python",
   "pygments_lexer": "ipython3",
   "version": "3.13.2"
  }
 },
 "nbformat": 4,
 "nbformat_minor": 2
}
