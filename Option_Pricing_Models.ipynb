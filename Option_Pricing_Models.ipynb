{
 "cells": [
  {
   "cell_type": "markdown",
   "id": "07ca07bf",
   "metadata": {},
   "source": [
    "# Importing Required libraries"
   ]
  },
  {
   "cell_type": "code",
   "execution_count": 9,
   "id": "8790b07f",
   "metadata": {},
   "outputs": [],
   "source": [
    "%run ./EODHD_Functions.ipynb\n",
    "import requests\n",
    "import pandas as pd\n",
    "import datetime as dt\n",
    "import numpy as np\n",
    "import os as os\n",
    "from textblob import TextBlob\n",
    "from concurrent.futures import ThreadPoolExecutor\n",
    "import matplotlib.pyplot as plt\n",
    "import matplotlib.pyplot as mdates\n",
    "from sklearn.preprocessing import StandardScaler\n",
    "from scipy.stats import norm\n",
    "import numpy as np"
   ]
  },
  {
   "cell_type": "markdown",
   "id": "49cd0d01",
   "metadata": {},
   "source": [
    "# Functions used"
   ]
  },
  {
   "cell_type": "code",
   "execution_count": 16,
   "id": "7c389fa3",
   "metadata": {},
   "outputs": [],
   "source": [
    "def calculate_30d_volatility(df, price_col='adjusted_close'):\n",
    "    \"\"\"\n",
    "    Calculate the 30-day annualized volatility of a stock from a DataFrame of prices.\n",
    "    Assumes daily frequency.\n",
    "    \"\"\"\n",
    "    # Calculate log returns\n",
    "    df = df.copy()\n",
    "    df['log_return'] = np.log(df[price_col] / df[price_col].shift(1))\n",
    "    # Use the last 30 log returns\n",
    "    last_30 = df['log_return'].dropna()[-30:]\n",
    "    # Calculate standard deviation and annualize (sqrt(252) for trading days)\n",
    "    volatility = last_30.std() * np.sqrt(252)\n",
    "    return volatility"
   ]
  },
  {
   "cell_type": "markdown",
   "id": "81320ea5",
   "metadata": {},
   "source": [
    "# Creating blackscholes option pricing model"
   ]
  },
  {
   "cell_type": "code",
   "execution_count": null,
   "id": "dcb00087",
   "metadata": {},
   "outputs": [],
   "source": [
    "\n",
    "def black_scholes(S, K, T, r, sigma):\n",
    "    \"\"\"\n",
    "    Calculate Black-Scholes option price for European call and put.\n",
    "\n",
    "    Parameters:\n",
    "    S : float\n",
    "        Current stock price\n",
    "    K : float\n",
    "        Strike price\n",
    "    T : float\n",
    "        Time to maturity in years\n",
    "    r : float\n",
    "        Risk-free interest rate (annual)\n",
    "    sigma : float\n",
    "        Volatility of the underlying asset (annual)\n",
    "\n",
    "    Returns:\n",
    "    call_price : float\n",
    "        Price of the European call option\n",
    "    put_price : float\n",
    "        Price of the European put option\n",
    "    \"\"\"\n",
    "    d1 = (np.log(S / K) + (r + 0.5 * sigma ** 2) * T) / (sigma * np.sqrt(T))\n",
    "    d2 = d1 - sigma * np.sqrt(T)\n",
    "    call_price = S * norm.cdf(d1) - K * np.exp(-r * T) * norm.cdf(d2)\n",
    "    put_price = K * np.exp(-r * T) * norm.cdf(-d2) - S * norm.cdf(-d1)\n",
    "    return call_price, put_price"
   ]
  },
  {
   "cell_type": "code",
   "execution_count": null,
   "id": "6d49fe51",
   "metadata": {},
   "outputs": [
    {
     "name": "stdout",
     "output_type": "stream",
     "text": [
      "Call Option Price: 0.37, Put Option Price: 0.53\n"
     ]
    }
   ],
   "source": [
    "# Using black-scholes model to calculate option price\n",
    "\n",
    "Function = EODHD_Functions()\n",
    "end_date = dt.datetime.now()\n",
    "start_date = end_date - dt.timedelta(days=30)\n",
    "s = Function.Fetch_historical_price(\"CA.PA\", start_date,end_date,\"d\").iloc[-1]\n",
    "T = 30/365\n",
    "k = 12\n",
    "r = 1.05\n",
    "sigma = calculate_30d_volatility(Function.Fetch_historical_price(\"CA.PA\", start_date,end_date,\"d\"))\n",
    "\n",
    "CA_option_price = black_scholes(s['adjusted_close'], k, T, r/100, sigma)\n",
    "\n",
    "print(f\"Call Option Price: {CA_option_price[0]:.2f}, Put Option Price: {CA_option_price[1]:.2f}\")"
   ]
  }
 ],
 "metadata": {
  "kernelspec": {
   "display_name": "Python 3",
   "language": "python",
   "name": "python3"
  },
  "language_info": {
   "codemirror_mode": {
    "name": "ipython",
    "version": 3
   },
   "file_extension": ".py",
   "mimetype": "text/x-python",
   "name": "python",
   "nbconvert_exporter": "python",
   "pygments_lexer": "ipython3",
   "version": "3.12.1"
  }
 },
 "nbformat": 4,
 "nbformat_minor": 5
}
