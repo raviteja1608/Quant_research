{
 "cells": [
  {
   "cell_type": "markdown",
   "id": "07ca07bf",
   "metadata": {},
   "source": [
    "# Importing Required libraries"
   ]
  },
  {
   "cell_type": "code",
   "execution_count": 1,
   "id": "8790b07f",
   "metadata": {},
   "outputs": [],
   "source": [
    "%run ./EODHD_Functions.ipynb\n",
    "import requests\n",
    "import pandas as pd\n",
    "import datetime as dt\n",
    "import numpy as np\n",
    "import os as os\n",
    "from textblob import TextBlob\n",
    "from concurrent.futures import ThreadPoolExecutor\n",
    "import matplotlib.pyplot as plt\n",
    "import matplotlib.pyplot as mdates\n",
    "from sklearn.preprocessing import StandardScaler\n",
    "from scipy.stats import norm\n",
    "import numpy as np"
   ]
  },
  {
   "cell_type": "markdown",
   "id": "49cd0d01",
   "metadata": {},
   "source": [
    "# Functions used in this file"
   ]
  },
  {
   "cell_type": "code",
   "execution_count": 2,
   "id": "7c389fa3",
   "metadata": {},
   "outputs": [],
   "source": [
    "def Calculate_volatility(df, days=30, price_col='adjusted_close'):\n",
    "    \"\"\"\n",
    "    Calculate the N-day annualized volatility of a stock from a DataFrame of prices.\n",
    "    Assumes daily frequency.\n",
    "\n",
    "    Parameters:\n",
    "    df : DataFrame\n",
    "        DataFrame containing price data.\n",
    "    days : int\n",
    "        Number of days to use for volatility calculation.\n",
    "    price_col : str\n",
    "        Column name for price data.\n",
    "\n",
    "    Returns:\n",
    "    volatility : float\n",
    "        Annualized volatility.\n",
    "    \"\"\"\n",
    "    df = df.copy()\n",
    "    df['log_return'] = np.log(df[price_col] / df[price_col].shift(1))\n",
    "    last_n = df['log_return'].dropna()[-days:]\n",
    "    volatility = last_n.std() * np.sqrt(252)\n",
    "    return volatility"
   ]
  },
  {
   "cell_type": "markdown",
   "id": "81320ea5",
   "metadata": {},
   "source": [
    "# Creating blackscholes option pricing model"
   ]
  },
  {
   "cell_type": "code",
   "execution_count": 3,
   "id": "dcb00087",
   "metadata": {},
   "outputs": [],
   "source": [
    "\n",
    "def black_scholes(S, K, T, r, sigma):\n",
    "    \"\"\"\n",
    "    Calculate Black-Scholes option price for European call and put.\n",
    "\n",
    "    Parameters:\n",
    "    S : float\n",
    "        Current stock price\n",
    "    K : float\n",
    "        Strike price\n",
    "    T : float\n",
    "        Time to maturity in years\n",
    "    r : float\n",
    "        Risk-free interest rate (annual)\n",
    "    sigma : float\n",
    "        Volatility of the underlying asset (annual)\n",
    "\n",
    "    Returns:\n",
    "    call_price : float\n",
    "        Price of the European call option\n",
    "    put_price : float\n",
    "        Price of the European put option\n",
    "    \"\"\"\n",
    "    d1 = (np.log(S / K) + (r + 0.5 * sigma ** 2) * T) / (sigma * np.sqrt(T))\n",
    "    d2 = d1 - sigma * np.sqrt(T)\n",
    "    call_price = S * norm.cdf(d1) - K * np.exp(-r * T) * norm.cdf(d2)\n",
    "    put_price = K * np.exp(-r * T) * norm.cdf(-d2) - S * norm.cdf(-d1)\n",
    "    return call_price, put_price"
   ]
  },
  {
   "cell_type": "code",
   "execution_count": 4,
   "id": "6d49fe51",
   "metadata": {},
   "outputs": [
    {
     "data": {
      "text/plain": [
       "'# Using black-scholes model to calculate option price\\n\\nFunction = EODHD_Functions()\\nend_date = dt.datetime.now()\\ndays = 600\\nstart_date = end_date - dt.timedelta(days=days)\\ns = Function.Fetch_historical_price(\"CA.PA\", start_date,end_date,\"d\").iloc[-1]\\nT = 30/365\\nk = 12\\nr = 1.05\\nsigma = Calculate_volatility(Function.Fetch_historical_price(\"CA.PA\", start_date,end_date,\"d\"),days)\\n\\nCA_option_price = black_scholes(s[\\'adjusted_close\\'], k, T, r/100, sigma)\\n\\nprint(f\"Call Option Price: {CA_option_price[0]:.2f}, Put Option Price: {CA_option_price[1]:.2f}\")'"
      ]
     },
     "execution_count": 4,
     "metadata": {},
     "output_type": "execute_result"
    }
   ],
   "source": [
    "'''# Using black-scholes model to calculate option price\n",
    "\n",
    "Function = EODHD_Functions()\n",
    "end_date = dt.datetime.now()\n",
    "days = 600\n",
    "start_date = end_date - dt.timedelta(days=days)\n",
    "s = Function.Fetch_historical_price(\"CA.PA\", start_date,end_date,\"d\").iloc[-1]\n",
    "T = 30/365\n",
    "k = 12\n",
    "r = 1.05\n",
    "sigma = Calculate_volatility(Function.Fetch_historical_price(\"CA.PA\", start_date,end_date,\"d\"),days)\n",
    "\n",
    "CA_option_price = black_scholes(s['adjusted_close'], k, T, r/100, sigma)\n",
    "\n",
    "print(f\"Call Option Price: {CA_option_price[0]:.2f}, Put Option Price: {CA_option_price[1]:.2f}\")'''"
   ]
  },
  {
   "cell_type": "markdown",
   "id": "339614f7",
   "metadata": {},
   "source": [
    "# Simulating jump diffusion stock price"
   ]
  },
  {
   "cell_type": "code",
   "execution_count": 7,
   "id": "a2909645",
   "metadata": {},
   "outputs": [],
   "source": [
    "def simulate_jump_diffusion(S0, mu, sigma, lamb, mu_j, sigma_j, T, N):\n",
    "    dt = T / N\n",
    "    t = np.linspace(0, T, N+1)\n",
    "    S = np.zeros(N+1)\n",
    "    S[0] = S0\n",
    "    for i in range(1, N+1):\n",
    "        # Poisson jump\n",
    "        Nj = np.random.poisson(lamb * dt)\n",
    "        if Nj > 0:\n",
    "            jumps = np.sum(np.random.normal(mu_j, sigma_j, Nj))\n",
    "        else:\n",
    "            jumps = 0\n",
    "        dW = np.random.normal(0, np.sqrt(dt))\n",
    "        S[i] = S[i-1] * np.exp((mu - 0.5 * sigma**2) * dt + sigma * dW + jumps)\n",
    "    return t, S\n"
   ]
  },
  {
   "cell_type": "code",
   "execution_count": 6,
   "id": "5b1a4705",
   "metadata": {},
   "outputs": [
    {
     "data": {
      "text/plain": [
       "'# Simulating jump diffusion model for a stock\\n# Parameters\\nS0 = s[\\'adjusted_close\\']  # initial stock price as a float\\nmu = 0.05      # expected return\\nsigma = sigma   # volatility\\nlamb = 0.75   # average number of jumps per year\\nmu_j = -0.2   # mean of jump size (in log)\\nsigma_j = 0.1 # std dev of jump size (in log)\\nT = T         # time horizon (years)\\nN = 30       # number of steps (daily)\\n\\nt, S = simulate_jump_diffusion(S0, mu, sigma, lamb, mu_j, sigma_j, T, N)\\n\\nplt.figure(figsize=(10,5))\\nplt.plot(t, S)\\nplt.title(\\'Jump Diffusion Stock Price Simulation\\')\\nplt.xlabel(\\'Time (years)\\')\\nplt.ylabel(\\'Stock Price\\')\\nplt.grid(True)\\nplt.show()\\n# Monte Carlo simulation for jump diffusion model\\nnum_simulations = 1000000\\nall_paths = np.zeros((num_simulations, N+1))\\n\\nfor i in range(num_simulations):\\n    _, S_path = simulate_jump_diffusion(S0, mu, sigma, lamb, mu_j, sigma_j, T, N)\\n    all_paths[i, :] = S_path\\n\\n# Calculate statistics\\nmean_path = np.mean(all_paths, axis=0)\\np10_path = np.percentile(all_paths, 10, axis=0)\\np90_path = np.percentile(all_paths, 90, axis=0)\\n\\nplt.figure(figsize=(10,5))\\nplt.plot(t, mean_path, label=\\'Mean Path\\', color=\\'blue\\')\\nplt.plot(t, p10_path, label=\\'10th Percentile\\', color=\\'red\\', linestyle=\\'--\\')\\nplt.plot(t, p90_path, label=\\'90th Percentile\\', color=\\'green\\', linestyle=\\'--\\')\\nplt.fill_between(t, p10_path, p90_path, color=\\'gray\\', alpha=0.2, label=\\'10-90 Percentile Range\\')\\nplt.title(\\'Monte Carlo Jump Diffusion Simulation (1000 runs)\\')\\nplt.xlabel(\\'Time (years)\\')\\nplt.ylabel(\\'Stock Price\\')\\nplt.legend()\\nplt.grid(True)\\nplt.show()\\n\\n# Print the final values at the end of the simulation\\nprint(f\"Final Mean Value: {mean_path[-1]:.2f}\")\\nprint(f\"Final 10th Percentile: {p10_path[-1]:.2f}\")\\nprint(f\"Final 90th Percentile: {p90_path[-1]:.2f}\")'"
      ]
     },
     "execution_count": 6,
     "metadata": {},
     "output_type": "execute_result"
    }
   ],
   "source": [
    "'''# Simulating jump diffusion model for a stock\n",
    "# Parameters\n",
    "S0 = s['adjusted_close']  # initial stock price as a float\n",
    "mu = 0.05      # expected return\n",
    "sigma = sigma   # volatility\n",
    "lamb = 0.75   # average number of jumps per year\n",
    "mu_j = -0.2   # mean of jump size (in log)\n",
    "sigma_j = 0.1 # std dev of jump size (in log)\n",
    "T = T         # time horizon (years)\n",
    "N = 30       # number of steps (daily)\n",
    "\n",
    "t, S = simulate_jump_diffusion(S0, mu, sigma, lamb, mu_j, sigma_j, T, N)\n",
    "\n",
    "plt.figure(figsize=(10,5))\n",
    "plt.plot(t, S)\n",
    "plt.title('Jump Diffusion Stock Price Simulation')\n",
    "plt.xlabel('Time (years)')\n",
    "plt.ylabel('Stock Price')\n",
    "plt.grid(True)\n",
    "plt.show()\n",
    "# Monte Carlo simulation for jump diffusion model\n",
    "num_simulations = 1000000\n",
    "all_paths = np.zeros((num_simulations, N+1))\n",
    "\n",
    "for i in range(num_simulations):\n",
    "    _, S_path = simulate_jump_diffusion(S0, mu, sigma, lamb, mu_j, sigma_j, T, N)\n",
    "    all_paths[i, :] = S_path\n",
    "\n",
    "# Calculate statistics\n",
    "mean_path = np.mean(all_paths, axis=0)\n",
    "p10_path = np.percentile(all_paths, 10, axis=0)\n",
    "p90_path = np.percentile(all_paths, 90, axis=0)\n",
    "\n",
    "plt.figure(figsize=(10,5))\n",
    "plt.plot(t, mean_path, label='Mean Path', color='blue')\n",
    "plt.plot(t, p10_path, label='10th Percentile', color='red', linestyle='--')\n",
    "plt.plot(t, p90_path, label='90th Percentile', color='green', linestyle='--')\n",
    "plt.fill_between(t, p10_path, p90_path, color='gray', alpha=0.2, label='10-90 Percentile Range')\n",
    "plt.title('Monte Carlo Jump Diffusion Simulation (1000 runs)')\n",
    "plt.xlabel('Time (years)')\n",
    "plt.ylabel('Stock Price')\n",
    "plt.legend()\n",
    "plt.grid(True)\n",
    "plt.show()\n",
    "\n",
    "# Print the final values at the end of the simulation\n",
    "print(f\"Final Mean Value: {mean_path[-1]:.2f}\")\n",
    "print(f\"Final 10th Percentile: {p10_path[-1]:.2f}\")\n",
    "print(f\"Final 90th Percentile: {p90_path[-1]:.2f}\")'''"
   ]
  },
  {
   "cell_type": "markdown",
   "id": "e5c15362",
   "metadata": {},
   "source": [
    "# Neural CGMY Model Input Requirements\n",
    "# Neural Network-Enhanced Lévy Models\n"
   ]
  },
  {
   "cell_type": "code",
   "execution_count": 8,
   "id": "7147c9d5",
   "metadata": {},
   "outputs": [],
   "source": [
    "def simulate_cgmy(S0, mu, sigma, C, G, M, Y, T, N, seed=None):\n",
    "    \"\"\"\n",
    "    Simulate a stock price path using the CGMY model (time-changed Lévy process).\n",
    "\n",
    "    Parameters:\n",
    "    S0 : float\n",
    "        Initial stock price.\n",
    "    mu : float\n",
    "        Drift term.\n",
    "    sigma : float\n",
    "        Diffusion (Brownian motion) volatility.\n",
    "    C : float\n",
    "        Activity parameter (intensity of jumps).\n",
    "    G : float\n",
    "        Rate of exponential decay for negative jumps.\n",
    "    M : float\n",
    "        Rate of exponential decay for positive jumps.\n",
    "    Y : float\n",
    "        Tail heaviness parameter (0 < Y < 2).\n",
    "    T : float\n",
    "        Total time horizon (in years).\n",
    "    N : int\n",
    "        Number of time steps.\n",
    "    seed : int or None\n",
    "        Random seed for reproducibility.\n",
    "\n",
    "    Returns:\n",
    "    t : ndarray\n",
    "        Array of time points.\n",
    "    S : ndarray\n",
    "        Simulated stock price path.\n",
    "    \"\"\"\n",
    "    if seed is not None:\n",
    "        np.random.seed(seed)\n",
    "    dt = T / N\n",
    "    t = np.linspace(0, T, N+1)\n",
    "    S = np.zeros(N+1)\n",
    "    S[0] = S0\n",
    "\n",
    "    # Simulate Brownian increments\n",
    "    dW = np.random.normal(0, np.sqrt(dt), N)\n",
    "\n",
    "    # Simulate CGMY jumps using compound Poisson approximation\n",
    "    # For simplicity, we use a finite activity approximation (truncating small jumps)\n",
    "    jump_intensity = C * (G**-Y + M**-Y)\n",
    "    num_jumps = np.random.poisson(jump_intensity * T)\n",
    "    jump_times = np.random.uniform(0, T, num_jumps)\n",
    "    jump_sizes = np.random.choice([-1, 1], size=num_jumps) * \\\n",
    "        np.random.exponential(1.0 / np.array([G, M])[np.random.randint(0, 2, num_jumps)], num_jumps)\n",
    "    jump_sizes *= np.random.pareto(Y, num_jumps)  # heavy-tailed jump sizes\n",
    "\n",
    "    # Assign jumps to time steps\n",
    "    jumps = np.zeros(N)\n",
    "    for jt, js in zip(jump_times, jump_sizes):\n",
    "        idx = min(int(jt / dt), N-1)\n",
    "        jumps[idx] += js\n",
    "\n",
    "    for i in range(1, N+1):\n",
    "        S[i] = S[i-1] * np.exp((mu - 0.5 * sigma**2) * dt + sigma * dW[i-1] + jumps[i-1])\n",
    "\n",
    "    return t, S"
   ]
  },
  {
   "cell_type": "markdown",
   "id": "ab48f364",
   "metadata": {},
   "source": [
    "# Rough Heston model (forecasting volatility)"
   ]
  },
  {
   "cell_type": "code",
   "execution_count": 34,
   "id": "93a52823",
   "metadata": {},
   "outputs": [],
   "source": [
    "def simulate_rough_heston(T, N, v0, theta, kappa, sigma, H, rho=0.0, S0=1.0, mu=0.0, seed=None):\n",
    "    \"\"\"\n",
    "    Simulate the rough Heston model for stochastic volatility forecasting using the Davies-Harte method for fBM.\n",
    "\n",
    "    Parameters:\n",
    "    T : float\n",
    "        Total time horizon (in years).\n",
    "    N : int\n",
    "        Number of time steps.\n",
    "    v0 : float\n",
    "        Initial variance.\n",
    "    theta : float\n",
    "        Long-term mean of variance.\n",
    "    kappa : float\n",
    "        Mean reversion speed.\n",
    "    sigma : float\n",
    "        Volatility of volatility.\n",
    "    H : float\n",
    "        Hurst parameter (0 < H < 0.5).\n",
    "    rho : float\n",
    "        Correlation between asset and volatility (default 0.0).\n",
    "    S0 : float\n",
    "        Initial asset price (default 1.0).\n",
    "    mu : float\n",
    "        Drift of the asset (default 0.0).\n",
    "    seed : int or None\n",
    "        Random seed for reproducibility.\n",
    "\n",
    "    Returns:\n",
    "    t : ndarray\n",
    "        Array of time points.\n",
    "    S : ndarray\n",
    "        Simulated asset price path.\n",
    "    v : ndarray\n",
    "        Simulated variance path.\n",
    "    \"\"\"\n",
    "    if seed is not None:\n",
    "        np.random.seed(seed)\n",
    "    dt = T / N\n",
    "    t = np.linspace(0, T, N+1)\n",
    "    v = np.zeros(N+1)\n",
    "    v[0] = v0\n",
    "    S = np.zeros(N+1)\n",
    "    S[0] = S0\n",
    "\n",
    "    # Generate correlated Brownian motions\n",
    "    Z1 = np.random.normal(size=N)\n",
    "    Z2 = np.random.normal(size=N)\n",
    "    dW1 = np.sqrt(dt) * Z1\n",
    "    dW2 = np.sqrt(dt) * (rho * Z1 + np.sqrt(1 - rho**2) * Z2)\n",
    "\n",
    "    # Davies-Harte method for fBM increments (fixed for broadcasting)\n",
    "    def davies_harte_fbm(N, H, T):\n",
    "        dt = T / N\n",
    "        g = np.zeros(2 * N)\n",
    "        for k in range(0, N):\n",
    "            g[k] = 0.5 * ((abs(k + 1) ** (2 * H)) - 2 * (abs(k) ** (2 * H)) + (abs(k - 1) ** (2 * H)))\n",
    "        g[N:2*N-1] = g[1:N][::-1]\n",
    "        g[2*N-1] = 0  # Ensure the last element is zero\n",
    "        eigvals = np.fft.fft(g).real\n",
    "        Z = np.random.normal(size=2 * N) + 1j * np.random.normal(size=2 * N)\n",
    "        W = np.fft.ifft(np.sqrt(np.maximum(eigvals, 0)) * Z).real\n",
    "        fbm = np.cumsum(W[:N]) * np.sqrt(dt)\n",
    "        return fbm\n",
    "\n",
    "    fbm_increments = davies_harte_fbm(N, H, T)\n",
    "\n",
    "    for i in range(1, N+1):\n",
    "        # Rough Heston volatility process (approximate)\n",
    "        v[i] = np.abs(\n",
    "            v[i-1] + kappa * (theta - v[i-1]) * dt +\n",
    "            sigma * fbm_increments[i-1]\n",
    "        )\n",
    "        # Asset price process\n",
    "        S[i] = S[i-1] * np.exp((mu - 0.5 * v[i-1]) * dt + np.sqrt(v[i-1]) * dW2[i-1])\n",
    "\n",
    "    return t, S, v"
   ]
  },
  {
   "cell_type": "code",
   "execution_count": null,
   "id": "87673328",
   "metadata": {},
   "outputs": [
    {
     "data": {
      "text/plain": [
       "<matplotlib.legend.Legend at 0x7c749a4e0530>"
      ]
     },
     "execution_count": 40,
     "metadata": {},
     "output_type": "execute_result"
    },
    {
     "data": {
      "image/png": "[encoded data removed]",
      "text/plain": [
       "<Figure size 1000x400 with 1 Axes>"
      ]
     },
     "metadata": {},
     "output_type": "display_data"
    }
   ],
   "source": [
    "# Example: Simulate rough Heston model and predict asset price for 30 days\n",
    "\n",
    "# Parameters\n",
    "T = 30 / 252         # 30 trading days (in years)\n",
    "N = 30               # 30 time steps (daily)\n",
    "v0 = 0.04            # Initial variance\n",
    "theta = 0.04         # Long-term mean variance\n",
    "kappa = 1.0          # Mean reversion speed\n",
    "sigma = 0.5          # Volatility of volatility\n",
    "H = 0.1              # Hurst parameter (roughness)\n",
    "rho = -0.7           # Correlation\n",
    "S0 = 100             # Initial asset price\n",
    "mu = 0.05            # Drift\n",
    "seed = None           # For reproducibility\n",
    "\n",
    "# Simulate\n",
    "t, S, v = simulate_rough_heston(T, N, v0, theta, kappa, sigma, H, rho, S0, mu, seed)\n",
    "\n",
    "# Plot results\n",
    "import matplotlib.pyplot as plt\n",
    "\n",
    "plt.figure(figsize=(10, 4))\n",
    "plt.plot(t * 252, S, label='Asset Price')\n",
    "plt.title('Rough Heston Model: 30-Day Prediction')\n",
    "plt.xlabel('Day')\n",
    "plt.ylabel('Asset Price')\n",
    "plt.grid(True)\n",
    "plt.legend()"
   ]
  }
 ],
 "metadata": {
  "kernelspec": {
   "display_name": "Python 3",
   "language": "python",
   "name": "python3"
  },
  "language_info": {
   "codemirror_mode": {
    "name": "ipython",
    "version": 3
   },
   "file_extension": ".py",
   "mimetype": "text/x-python",
   "name": "python",
   "nbconvert_exporter": "python",
   "pygments_lexer": "ipython3",
   "version": "3.12.1"
  }
 },
 "nbformat": 4,
 "nbformat_minor": 5
}
